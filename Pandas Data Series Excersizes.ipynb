{
 "cells": [
  {
   "cell_type": "markdown",
   "id": "14b58076",
   "metadata": {},
   "source": [
    "### 1 "
   ]
  },
  {
   "cell_type": "code",
   "execution_count": 1,
   "id": "bfdf1ea4",
   "metadata": {},
   "outputs": [
    {
     "name": "stdout",
     "output_type": "stream",
     "text": [
      "0    2\n",
      "1    4\n",
      "2    6\n",
      "dtype: int64\n"
     ]
    }
   ],
   "source": [
    "import pandas as pd \n",
    "ds = pd.Series([2,4,6])\n",
    "print(ds)"
   ]
  },
  {
   "cell_type": "markdown",
   "id": "0b7c8547",
   "metadata": {},
   "source": [
    "### 2"
   ]
  },
  {
   "cell_type": "code",
   "execution_count": 5,
   "id": "d151b477",
   "metadata": {},
   "outputs": [
    {
     "name": "stdout",
     "output_type": "stream",
     "text": [
      "<class 'list'>\n"
     ]
    }
   ],
   "source": [
    "print(type(ds.tolist()))"
   ]
  },
  {
   "cell_type": "code",
   "execution_count": 6,
   "id": "481d53f7",
   "metadata": {},
   "outputs": [
    {
     "data": {
      "text/plain": [
       "pandas.core.series.Series"
      ]
     },
     "execution_count": 6,
     "metadata": {},
     "output_type": "execute_result"
    }
   ],
   "source": [
    "type(ds)"
   ]
  },
  {
   "cell_type": "code",
   "execution_count": 7,
   "id": "94541d2c",
   "metadata": {},
   "outputs": [],
   "source": [
    "ds = ds.tolist()"
   ]
  },
  {
   "cell_type": "code",
   "execution_count": 8,
   "id": "33d6adb2",
   "metadata": {},
   "outputs": [
    {
     "data": {
      "text/plain": [
       "list"
      ]
     },
     "execution_count": 8,
     "metadata": {},
     "output_type": "execute_result"
    }
   ],
   "source": [
    "type(ds)"
   ]
  },
  {
   "cell_type": "markdown",
   "id": "e21c31af",
   "metadata": {},
   "source": [
    "### 3"
   ]
  },
  {
   "cell_type": "code",
   "execution_count": 13,
   "id": "7fda9cc6",
   "metadata": {},
   "outputs": [
    {
     "name": "stdout",
     "output_type": "stream",
     "text": [
      "0    3\n",
      "1    5\n",
      "2    7\n",
      "dtype: int64 0    1\n",
      "1    1\n",
      "2    1\n",
      "dtype: int64 0     2\n",
      "1     6\n",
      "2    12\n",
      "dtype: int64 0    2.000000\n",
      "1    1.500000\n",
      "2    1.333333\n",
      "dtype: float64\n"
     ]
    }
   ],
   "source": [
    "ds1 = pd.Series([2,3,4])\n",
    "ds2 = pd.Series([1,2,3])\n",
    "add = ds1 + ds2 \n",
    "sub = ds1 - ds2 \n",
    "mult = ds1 * ds2\n",
    "div = ds1 / ds2 \n",
    "\n",
    "print(add, sub, mult, div)"
   ]
  },
  {
   "cell_type": "markdown",
   "id": "f7e231a8",
   "metadata": {},
   "source": [
    "### 4"
   ]
  },
  {
   "cell_type": "code",
   "execution_count": 15,
   "id": "e21a8e31",
   "metadata": {},
   "outputs": [
    {
     "data": {
      "text/html": [
       "<div>\n",
       "<style scoped>\n",
       "    .dataframe tbody tr th:only-of-type {\n",
       "        vertical-align: middle;\n",
       "    }\n",
       "\n",
       "    .dataframe tbody tr th {\n",
       "        vertical-align: top;\n",
       "    }\n",
       "\n",
       "    .dataframe thead th {\n",
       "        text-align: right;\n",
       "    }\n",
       "</style>\n",
       "<table border=\"1\" class=\"dataframe\">\n",
       "  <thead>\n",
       "    <tr style=\"text-align: right;\">\n",
       "      <th></th>\n",
       "      <th>self</th>\n",
       "      <th>other</th>\n",
       "    </tr>\n",
       "  </thead>\n",
       "  <tbody>\n",
       "    <tr>\n",
       "      <th>0</th>\n",
       "      <td>2.0</td>\n",
       "      <td>1.0</td>\n",
       "    </tr>\n",
       "    <tr>\n",
       "      <th>1</th>\n",
       "      <td>4.0</td>\n",
       "      <td>3.0</td>\n",
       "    </tr>\n",
       "    <tr>\n",
       "      <th>2</th>\n",
       "      <td>6.0</td>\n",
       "      <td>5.0</td>\n",
       "    </tr>\n",
       "    <tr>\n",
       "      <th>3</th>\n",
       "      <td>8.0</td>\n",
       "      <td>7.0</td>\n",
       "    </tr>\n",
       "  </tbody>\n",
       "</table>\n",
       "</div>"
      ],
      "text/plain": [
       "   self  other\n",
       "0   2.0    1.0\n",
       "1   4.0    3.0\n",
       "2   6.0    5.0\n",
       "3   8.0    7.0"
      ]
     },
     "execution_count": 15,
     "metadata": {},
     "output_type": "execute_result"
    }
   ],
   "source": [
    "ds1 = pd.Series([2,4,6,8,10])\n",
    "ds2 = pd.Series([1,3,5,7,10])\n",
    "ds1.compare(ds2)"
   ]
  },
  {
   "cell_type": "code",
   "execution_count": 16,
   "id": "7a123abb",
   "metadata": {},
   "outputs": [
    {
     "name": "stdout",
     "output_type": "stream",
     "text": [
      "0    False\n",
      "1    False\n",
      "2    False\n",
      "3    False\n",
      "4     True\n",
      "dtype: bool\n",
      "0     True\n",
      "1     True\n",
      "2     True\n",
      "3     True\n",
      "4    False\n",
      "dtype: bool\n",
      "0    False\n",
      "1    False\n",
      "2    False\n",
      "3    False\n",
      "4    False\n",
      "dtype: bool\n"
     ]
    }
   ],
   "source": [
    "print(ds1==ds2)\n",
    "print(ds1>ds2)\n",
    "print(ds1<ds2)"
   ]
  },
  {
   "cell_type": "markdown",
   "id": "f6a3e0cf",
   "metadata": {},
   "source": [
    "### 5"
   ]
  },
  {
   "cell_type": "code",
   "execution_count": 17,
   "id": "05392168",
   "metadata": {},
   "outputs": [
    {
     "name": "stdout",
     "output_type": "stream",
     "text": [
      "{'a': 100, 'b': 200, 'c': 300, 'd': 400, 'e': 800}\n",
      "a    100\n",
      "b    200\n",
      "c    300\n",
      "d    400\n",
      "e    800\n",
      "dtype: int64\n"
     ]
    }
   ],
   "source": [
    "d1 = {'a':100, 'b':200, 'c':300, 'd':400, 'e':800}\n",
    "print(d1)\n",
    "new_series = pd.Series(d1)\n",
    "print(new_series)"
   ]
  },
  {
   "cell_type": "markdown",
   "id": "ec0e4d17",
   "metadata": {},
   "source": [
    "### 6"
   ]
  },
  {
   "cell_type": "code",
   "execution_count": 21,
   "id": "1e65cea1",
   "metadata": {},
   "outputs": [
    {
     "name": "stdout",
     "output_type": "stream",
     "text": [
      "[1 2 3]\n",
      "<class 'numpy.ndarray'>\n",
      "0    1\n",
      "1    2\n",
      "2    3\n",
      "dtype: int64\n",
      "<class 'pandas.core.series.Series'>\n"
     ]
    }
   ],
   "source": [
    "import numpy as np \n",
    "ds = np.array([1,2,3])\n",
    "print(ds)\n",
    "print(type(ds))\n",
    "ds1 = pd.Series(ds)\n",
    "print(ds1)\n",
    "print(type(ds1))"
   ]
  },
  {
   "cell_type": "markdown",
   "id": "3f0d2c43",
   "metadata": {},
   "source": [
    "### 7"
   ]
  },
  {
   "cell_type": "code",
   "execution_count": 22,
   "id": "39c1c273",
   "metadata": {},
   "outputs": [
    {
     "name": "stdout",
     "output_type": "stream",
     "text": [
      "0       100\n",
      "1       200\n",
      "2    python\n",
      "3    300.12\n",
      "4       400\n",
      "dtype: object\n"
     ]
    }
   ],
   "source": [
    "ds = pd.Series([100,200,'python',300.12,400])\n",
    "print(ds)"
   ]
  },
  {
   "cell_type": "code",
   "execution_count": 26,
   "id": "76467d0d",
   "metadata": {},
   "outputs": [
    {
     "name": "stdout",
     "output_type": "stream",
     "text": [
      "0    100.00\n",
      "1    200.00\n",
      "2       NaN\n",
      "3    300.12\n",
      "4    400.00\n",
      "dtype: float64\n"
     ]
    }
   ],
   "source": [
    "ds1 = pd.to_numeric(ds, errors=\"coerce\")\n",
    "print(ds1)"
   ]
  },
  {
   "cell_type": "code",
   "execution_count": 27,
   "id": "2523f537",
   "metadata": {},
   "outputs": [
    {
     "name": "stdout",
     "output_type": "stream",
     "text": [
      "0       100\n",
      "1       200\n",
      "2    python\n",
      "3    300.12\n",
      "4       400\n",
      "dtype: object\n"
     ]
    }
   ],
   "source": [
    "ds1 = pd.to_numeric(ds, errors=\"ignore\")\n",
    "print(ds1)"
   ]
  },
  {
   "cell_type": "markdown",
   "id": "2142a52d",
   "metadata": {},
   "source": [
    "### 8"
   ]
  },
  {
   "cell_type": "code",
   "execution_count": 36,
   "id": "d375ec5c",
   "metadata": {},
   "outputs": [
    {
     "name": "stdout",
     "output_type": "stream",
     "text": [
      "   col1  col2  col3\n",
      "0     1     4     7\n",
      "1     2     5     5\n",
      "2     3     6     8\n",
      "3     4     9    12\n",
      "4     7     5     1\n",
      "5    11     0    11\n"
     ]
    }
   ],
   "source": [
    "d = {'col1':[1,2,3,4,7,11],'col2':[4,5,6,9,5,0],'col3':[7,5,8,12,1,11]}\n",
    "df = pd.DataFrame(data=d)\n",
    "print(df)"
   ]
  },
  {
   "cell_type": "code",
   "execution_count": 39,
   "id": "4bda3b95",
   "metadata": {},
   "outputs": [
    {
     "name": "stdout",
     "output_type": "stream",
     "text": [
      "0     1\n",
      "1     2\n",
      "2     3\n",
      "3     4\n",
      "4     7\n",
      "5    11\n",
      "Name: col1, dtype: int64\n",
      "<class 'pandas.core.series.Series'>\n"
     ]
    }
   ],
   "source": [
    "s1 = df.iloc[:,0]\n",
    "print(s1)\n",
    "print(type(s1))"
   ]
  },
  {
   "cell_type": "code",
   "execution_count": 42,
   "id": "d3a422f0",
   "metadata": {},
   "outputs": [
    {
     "name": "stdout",
     "output_type": "stream",
     "text": [
      "0     1\n",
      "1     2\n",
      "2     3\n",
      "3     4\n",
      "4     7\n",
      "5    11\n",
      "Name: col1, dtype: int64\n",
      "<class 'pandas.core.series.Series'>\n"
     ]
    }
   ],
   "source": [
    "s2 = df.loc[:,'col1']\n",
    "print(s2)\n",
    "print(type(s2))"
   ]
  },
  {
   "cell_type": "markdown",
   "id": "33d2d3d1",
   "metadata": {},
   "source": [
    "### 9"
   ]
  },
  {
   "cell_type": "code",
   "execution_count": 46,
   "id": "d64b2d8f",
   "metadata": {},
   "outputs": [
    {
     "name": "stdout",
     "output_type": "stream",
     "text": [
      "0       100\n",
      "1       200\n",
      "2    python\n",
      "3    300.12\n",
      "4       400\n",
      "dtype: object <class 'pandas.core.series.Series'>\n",
      "<xarray.DataArray (index: 5)>\n",
      "array([100, 200, 'python', 300.12, 400], dtype=object)\n",
      "Coordinates:\n",
      "  * index    (index) int64 0 1 2 3 4 <class 'xarray.core.dataarray.DataArray'>\n"
     ]
    }
   ],
   "source": [
    "ds = pd.Series([100,200,'python',300.12,400])\n",
    "print(ds,type(ds))\n",
    "ar = ds.to_xarray()    #my try\n",
    "print(ar,type(ar))"
   ]
  },
  {
   "cell_type": "code",
   "execution_count": 47,
   "id": "1571ea73",
   "metadata": {},
   "outputs": [
    {
     "name": "stdout",
     "output_type": "stream",
     "text": [
      "0       100\n",
      "1       200\n",
      "2    python\n",
      "3    300.12\n",
      "4       400\n",
      "dtype: object <class 'pandas.core.series.Series'>\n",
      "[100 200 'python' 300.12 400] <class 'numpy.ndarray'>\n"
     ]
    }
   ],
   "source": [
    "ds = pd.Series([100,200,'python',300.12,400])\n",
    "print(ds,type(ds))\n",
    "a = ds.values\n",
    "print(a,type(a))"
   ]
  },
  {
   "cell_type": "markdown",
   "id": "0d6a35fa",
   "metadata": {},
   "source": [
    "### 10"
   ]
  },
  {
   "cell_type": "code",
   "execution_count": 48,
   "id": "ab3193fa",
   "metadata": {},
   "outputs": [
    {
     "name": "stdout",
     "output_type": "stream",
     "text": [
      "{'s1': ['red', 'green', 'white'], 's2': ['red', 'black'], 's3': ['yellow']}\n"
     ]
    }
   ],
   "source": [
    "series = {'s1':['red','green','white'],'s2':['red', 'black'],'s3':['yellow']}\n",
    "print(series)"
   ]
  },
  {
   "cell_type": "code",
   "execution_count": 49,
   "id": "cce94556",
   "metadata": {},
   "outputs": [],
   "source": [
    "s1 = pd.Series(series)"
   ]
  },
  {
   "cell_type": "code",
   "execution_count": 50,
   "id": "6f120646",
   "metadata": {},
   "outputs": [
    {
     "name": "stdout",
     "output_type": "stream",
     "text": [
      "s1    [red, green, white]\n",
      "s2           [red, black]\n",
      "s3               [yellow]\n",
      "dtype: object\n"
     ]
    }
   ],
   "source": [
    "print(s1)"
   ]
  },
  {
   "cell_type": "code",
   "execution_count": 52,
   "id": "99c26351",
   "metadata": {},
   "outputs": [
    {
     "name": "stdout",
     "output_type": "stream",
     "text": [
      "0       red\n",
      "1     green\n",
      "2     white\n",
      "3       red\n",
      "4     black\n",
      "5    yellow\n",
      "dtype: object\n"
     ]
    }
   ],
   "source": [
    "s2 = s1.apply(pd.Series).stack().reset_index(drop=True)\n",
    "print(s2)"
   ]
  },
  {
   "cell_type": "code",
   "execution_count": 53,
   "id": "7dfea042",
   "metadata": {},
   "outputs": [
    {
     "name": "stdout",
     "output_type": "stream",
     "text": [
      "0       red\n",
      "1     green\n",
      "2     white\n",
      "3       red\n",
      "4     black\n",
      "5    yellow\n",
      "dtype: object\n"
     ]
    }
   ],
   "source": [
    "s3 = s1.apply(pd.Series).stack().reset_index(drop=False)\n",
    "print(s2)"
   ]
  },
  {
   "cell_type": "code",
   "execution_count": null,
   "id": "e9b64efc",
   "metadata": {},
   "outputs": [],
   "source": [
    "#need to look more at this example "
   ]
  }
 ],
 "metadata": {
  "kernelspec": {
   "display_name": "Python 3 (ipykernel)",
   "language": "python",
   "name": "python3"
  },
  "language_info": {
   "codemirror_mode": {
    "name": "ipython",
    "version": 3
   },
   "file_extension": ".py",
   "mimetype": "text/x-python",
   "name": "python",
   "nbconvert_exporter": "python",
   "pygments_lexer": "ipython3",
   "version": "3.9.12"
  }
 },
 "nbformat": 4,
 "nbformat_minor": 5
}
