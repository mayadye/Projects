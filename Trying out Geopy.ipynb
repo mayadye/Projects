{
 "cells": [
  {
   "cell_type": "markdown",
   "id": "1031bb20",
   "metadata": {},
   "source": [
    "***This is a working document and does not reflect a final product***"
   ]
  },
  {
   "cell_type": "markdown",
   "id": "ba1a7408",
   "metadata": {},
   "source": [
    "# Converting City or Address to Lat & Long using Geopy"
   ]
  },
  {
   "cell_type": "markdown",
   "id": "e47c914c",
   "metadata": {},
   "source": [
    "### Importing geopy and testing how it works"
   ]
  },
  {
   "cell_type": "code",
   "execution_count": 1,
   "id": "a0330d13",
   "metadata": {},
   "outputs": [],
   "source": [
    "from geopy.geocoders import Nominatim"
   ]
  },
  {
   "cell_type": "code",
   "execution_count": 2,
   "id": "ad4d2e9d",
   "metadata": {},
   "outputs": [],
   "source": [
    "geolocator = Nominatim(user_agent=\"jupyter\")            #jupyter is the app name \n",
    "location = geolocator.geocode(\"175 5th Avenue NYC\")"
   ]
  },
  {
   "cell_type": "code",
   "execution_count": 3,
   "id": "1451062c",
   "metadata": {},
   "outputs": [
    {
     "name": "stdout",
     "output_type": "stream",
     "text": [
      "Flatiron Building, 175, 5th Avenue, Flatiron District, Manhattan Community Board 5, Manhattan, New York County, City of New York, New York, 10010, United States\n"
     ]
    }
   ],
   "source": [
    "print(location)"
   ]
  },
  {
   "cell_type": "code",
   "execution_count": 4,
   "id": "0706ef01",
   "metadata": {},
   "outputs": [
    {
     "name": "stdout",
     "output_type": "stream",
     "text": [
      "Flatiron Building, 175, 5th Avenue, Flatiron District, Manhattan Community Board 5, Manhattan, New York County, City of New York, New York, 10010, United States\n"
     ]
    }
   ],
   "source": [
    "print(location.address)"
   ]
  },
  {
   "cell_type": "code",
   "execution_count": 5,
   "id": "16a1991f",
   "metadata": {},
   "outputs": [
    {
     "name": "stdout",
     "output_type": "stream",
     "text": [
      "(40.741059199999995, -73.98964162240998)\n"
     ]
    }
   ],
   "source": [
    "print((location.latitude, location.longitude))"
   ]
  },
  {
   "cell_type": "code",
   "execution_count": 6,
   "id": "6689f135",
   "metadata": {},
   "outputs": [
    {
     "name": "stdout",
     "output_type": "stream",
     "text": [
      "{'place_id': 15433288, 'licence': 'Data © OpenStreetMap contributors, ODbL 1.0. http://osm.org/copyright', 'osm_type': 'way', 'osm_id': 264768896, 'lat': '40.741059199999995', 'lon': '-73.98964162240998', 'class': 'tourism', 'type': 'attraction', 'place_rank': 30, 'importance': 0.4305988542685404, 'addresstype': 'tourism', 'name': 'Flatiron Building', 'display_name': 'Flatiron Building, 175, 5th Avenue, Flatiron District, Manhattan Community Board 5, Manhattan, New York County, City of New York, New York, 10010, United States', 'boundingbox': ['40.7407596', '40.7413004', '-73.9898715', '-73.9895014']}\n"
     ]
    }
   ],
   "source": [
    "print(location.raw)"
   ]
  },
  {
   "cell_type": "code",
   "execution_count": 7,
   "id": "669a84a0",
   "metadata": {},
   "outputs": [
    {
     "name": "stdout",
     "output_type": "stream",
     "text": [
      "Potsdamer Platz, Tiergarten, Mitte, Berlin, 10785, Deutschland\n"
     ]
    }
   ],
   "source": [
    "location = geolocator.reverse(\"52.509669, 13.376294\")\n",
    "print(location.address)"
   ]
  },
  {
   "cell_type": "markdown",
   "id": "836792c3",
   "metadata": {},
   "source": [
    "### Import data and convert using geopy "
   ]
  },
  {
   "cell_type": "code",
   "execution_count": 8,
   "id": "3b9decf2",
   "metadata": {},
   "outputs": [
    {
     "name": "stdout",
     "output_type": "stream",
     "text": [
      "                 Dates  Year  Unnamed: 2          Stops / Ports Unnamed: 4  \\\n",
      "0                  NaN   NaN         NaN                    NaN        NaN   \n",
      "1         03-07 Feb 77  77.0         NaN  Acajutla, El Salvador        NaN   \n",
      "2                  NaN   NaN         NaN       Acapulco, Mexico          1   \n",
      "3     24 Feb-05 Mar 38  38.0         NaN       Acapulco, Mexico          2   \n",
      "4     29 Feb-02 Mar 40  40.0         NaN       Acapulco, Mexico          3   \n",
      "...                ...   ...         ...                    ...        ...   \n",
      "1007               NaN   NaN         NaN                    NaN        NaN   \n",
      "1008               NaN   NaN         NaN                    NaN        NaN   \n",
      "1009               NaN   NaN         NaN                    NaN        NaN   \n",
      "1010               NaN   NaN         NaN                    NaN        NaN   \n",
      "1011               NaN   NaN         NaN                    NaN        NaN   \n",
      "\n",
      "              comments  Cruise #  Unnamed: 7  Unnamed: 8  Unnamed: 9  \\\n",
      "0                  NaN       NaN         NaN         NaN         NaN   \n",
      "1                  NaN      64.0         NaN         NaN         NaN   \n",
      "2                  NaN       6.0         NaN         NaN         NaN   \n",
      "3      and Mexico City       8.0         NaN         NaN         NaN   \n",
      "4                  NaN      12.0         NaN         NaN         NaN   \n",
      "...                ...       ...         ...         ...         ...   \n",
      "1007               NaN       NaN         NaN         NaN         NaN   \n",
      "1008               NaN       NaN         NaN         NaN         NaN   \n",
      "1009               NaN       NaN         NaN         NaN         NaN   \n",
      "1010               NaN       NaN         NaN         NaN         NaN   \n",
      "1011               NaN       NaN         NaN         NaN         NaN   \n",
      "\n",
      "      Unnamed: 10  \n",
      "0             NaN  \n",
      "1             NaN  \n",
      "2             NaN  \n",
      "3             NaN  \n",
      "4             NaN  \n",
      "...           ...  \n",
      "1007          NaN  \n",
      "1008          NaN  \n",
      "1009          NaN  \n",
      "1010          NaN  \n",
      "1011          NaN  \n",
      "\n",
      "[1012 rows x 11 columns]\n"
     ]
    }
   ],
   "source": [
    "import pandas as pd\n",
    "df = pd.read_csv(\"/Users/mayadye/Documents/Freeman Project- Cruises/Cruise Ports Sheet .csv\", skiprows=3)  #data import\n",
    "print(df)"
   ]
  },
  {
   "cell_type": "code",
   "execution_count": 9,
   "id": "bb7b38d6",
   "metadata": {},
   "outputs": [
    {
     "data": {
      "text/html": [
       "<div>\n",
       "<style scoped>\n",
       "    .dataframe tbody tr th:only-of-type {\n",
       "        vertical-align: middle;\n",
       "    }\n",
       "\n",
       "    .dataframe tbody tr th {\n",
       "        vertical-align: top;\n",
       "    }\n",
       "\n",
       "    .dataframe thead th {\n",
       "        text-align: right;\n",
       "    }\n",
       "</style>\n",
       "<table border=\"1\" class=\"dataframe\">\n",
       "  <thead>\n",
       "    <tr style=\"text-align: right;\">\n",
       "      <th></th>\n",
       "      <th>Dates</th>\n",
       "      <th>Year</th>\n",
       "      <th>Unnamed: 2</th>\n",
       "      <th>Stops / Ports</th>\n",
       "      <th>Unnamed: 4</th>\n",
       "      <th>comments</th>\n",
       "      <th>Cruise #</th>\n",
       "      <th>Unnamed: 7</th>\n",
       "      <th>Unnamed: 8</th>\n",
       "      <th>Unnamed: 9</th>\n",
       "      <th>Unnamed: 10</th>\n",
       "    </tr>\n",
       "  </thead>\n",
       "  <tbody>\n",
       "    <tr>\n",
       "      <th>0</th>\n",
       "      <td>NaN</td>\n",
       "      <td>NaN</td>\n",
       "      <td>NaN</td>\n",
       "      <td>NaN</td>\n",
       "      <td>NaN</td>\n",
       "      <td>NaN</td>\n",
       "      <td>NaN</td>\n",
       "      <td>NaN</td>\n",
       "      <td>NaN</td>\n",
       "      <td>NaN</td>\n",
       "      <td>NaN</td>\n",
       "    </tr>\n",
       "    <tr>\n",
       "      <th>1</th>\n",
       "      <td>03-07 Feb 77</td>\n",
       "      <td>77.0</td>\n",
       "      <td>NaN</td>\n",
       "      <td>Acajutla, El Salvador</td>\n",
       "      <td>NaN</td>\n",
       "      <td>NaN</td>\n",
       "      <td>64.0</td>\n",
       "      <td>NaN</td>\n",
       "      <td>NaN</td>\n",
       "      <td>NaN</td>\n",
       "      <td>NaN</td>\n",
       "    </tr>\n",
       "    <tr>\n",
       "      <th>2</th>\n",
       "      <td>NaN</td>\n",
       "      <td>NaN</td>\n",
       "      <td>NaN</td>\n",
       "      <td>Acapulco, Mexico</td>\n",
       "      <td>1</td>\n",
       "      <td>NaN</td>\n",
       "      <td>6.0</td>\n",
       "      <td>NaN</td>\n",
       "      <td>NaN</td>\n",
       "      <td>NaN</td>\n",
       "      <td>NaN</td>\n",
       "    </tr>\n",
       "    <tr>\n",
       "      <th>3</th>\n",
       "      <td>24 Feb-05 Mar 38</td>\n",
       "      <td>38.0</td>\n",
       "      <td>NaN</td>\n",
       "      <td>Acapulco, Mexico</td>\n",
       "      <td>2</td>\n",
       "      <td>and Mexico City</td>\n",
       "      <td>8.0</td>\n",
       "      <td>NaN</td>\n",
       "      <td>NaN</td>\n",
       "      <td>NaN</td>\n",
       "      <td>NaN</td>\n",
       "    </tr>\n",
       "    <tr>\n",
       "      <th>4</th>\n",
       "      <td>29 Feb-02 Mar 40</td>\n",
       "      <td>40.0</td>\n",
       "      <td>NaN</td>\n",
       "      <td>Acapulco, Mexico</td>\n",
       "      <td>3</td>\n",
       "      <td>NaN</td>\n",
       "      <td>12.0</td>\n",
       "      <td>NaN</td>\n",
       "      <td>NaN</td>\n",
       "      <td>NaN</td>\n",
       "      <td>NaN</td>\n",
       "    </tr>\n",
       "  </tbody>\n",
       "</table>\n",
       "</div>"
      ],
      "text/plain": [
       "              Dates  Year  Unnamed: 2          Stops / Ports Unnamed: 4  \\\n",
       "0               NaN   NaN         NaN                    NaN        NaN   \n",
       "1      03-07 Feb 77  77.0         NaN  Acajutla, El Salvador        NaN   \n",
       "2               NaN   NaN         NaN       Acapulco, Mexico          1   \n",
       "3  24 Feb-05 Mar 38  38.0         NaN       Acapulco, Mexico          2   \n",
       "4  29 Feb-02 Mar 40  40.0         NaN       Acapulco, Mexico          3   \n",
       "\n",
       "           comments  Cruise #  Unnamed: 7  Unnamed: 8  Unnamed: 9  Unnamed: 10  \n",
       "0               NaN       NaN         NaN         NaN         NaN          NaN  \n",
       "1               NaN      64.0         NaN         NaN         NaN          NaN  \n",
       "2               NaN       6.0         NaN         NaN         NaN          NaN  \n",
       "3   and Mexico City       8.0         NaN         NaN         NaN          NaN  \n",
       "4               NaN      12.0         NaN         NaN         NaN          NaN  "
      ]
     },
     "execution_count": 9,
     "metadata": {},
     "output_type": "execute_result"
    }
   ],
   "source": [
    "df.head()"
   ]
  },
  {
   "cell_type": "code",
   "execution_count": 10,
   "id": "f07f4a1a",
   "metadata": {},
   "outputs": [
    {
     "name": "stdout",
     "output_type": "stream",
     "text": [
      "0                         NaN\n",
      "1       Acajutla, El Salvador\n",
      "2            Acapulco, Mexico\n",
      "3            Acapulco, Mexico\n",
      "4            Acapulco, Mexico\n",
      "                ...          \n",
      "1007                      NaN\n",
      "1008                      NaN\n",
      "1009                      NaN\n",
      "1010                      NaN\n",
      "1011                      NaN\n",
      "Name: Stops / Ports, Length: 1012, dtype: object\n"
     ]
    }
   ],
   "source": [
    "ports = df[\"Stops / Ports\"]   # isolate ports column\n",
    "print(ports)"
   ]
  },
  {
   "cell_type": "code",
   "execution_count": 11,
   "id": "ad2a372e",
   "metadata": {},
   "outputs": [],
   "source": [
    "# How to remove NaN and -inf values in Python pandas\n",
    "# dropna() : removes rows or columns with NaN or -inf values.\n",
    "# replace() : replaces NaN and -inf values with a specified value.\n",
    "# interpolate() : fills NaN values with interpolated values.\n",
    "\n",
    "# https://saturncloud.io/blog/python-pandas-how-to-remove-nan-and-inf-values/ "
   ]
  },
  {
   "cell_type": "code",
   "execution_count": 12,
   "id": "f5e11945",
   "metadata": {
    "scrolled": true
   },
   "outputs": [
    {
     "name": "stdout",
     "output_type": "stream",
     "text": [
      "1      Acajutla, El Salvador\n",
      "2           Acapulco, Mexico\n",
      "3           Acapulco, Mexico\n",
      "4           Acapulco, Mexico\n",
      "5           Acapulco, Mexico\n",
      "               ...          \n",
      "668          Yokohama, Japan\n",
      "669          Yokohama, Japan\n",
      "670      Zihuatenejo, Mexico\n",
      "671      Zihuatenejo, Mexico\n",
      "672      Zihuatenejo, Mexico\n",
      "Name: Stops / Ports, Length: 672, dtype: object\n"
     ]
    }
   ],
   "source": [
    "ports = ports.dropna()   #drop NaN values to return list of ports\n",
    "print(ports)"
   ]
  },
  {
   "cell_type": "code",
   "execution_count": 13,
   "id": "d4ff0064",
   "metadata": {},
   "outputs": [
    {
     "name": "stdout",
     "output_type": "stream",
     "text": [
      "(38.3310669, -85.6859233)\n"
     ]
    }
   ],
   "source": [
    "from geopy.geocoders import Nominatim\n",
    "geolocator = Nominatim(user_agent=\"jupyter\")            #jupyter is the app name \n",
    "\n",
    "location = geolocator.geocode(\"ports[1]\")\n",
    "\n",
    "#print(location.address)\n",
    "print((location.latitude, location.longitude))"
   ]
  },
  {
   "cell_type": "code",
   "execution_count": 14,
   "id": "ff2a46e6",
   "metadata": {},
   "outputs": [],
   "source": [
    "location = geolocator.geocode(\"ports\")"
   ]
  },
  {
   "cell_type": "code",
   "execution_count": 15,
   "id": "d29c06e7",
   "metadata": {},
   "outputs": [
    {
     "name": "stdout",
     "output_type": "stream",
     "text": [
      "(47.0161003, 0.5534383)\n"
     ]
    }
   ],
   "source": [
    "print((location.latitude, location.longitude))"
   ]
  },
  {
   "cell_type": "code",
   "execution_count": 16,
   "id": "39a5c35c",
   "metadata": {},
   "outputs": [],
   "source": [
    "location1 = geolocator.geocode(\"ports[]\")"
   ]
  },
  {
   "cell_type": "code",
   "execution_count": 17,
   "id": "2419ed45",
   "metadata": {},
   "outputs": [
    {
     "name": "stdout",
     "output_type": "stream",
     "text": [
      "(47.0161003, 0.5534383)\n"
     ]
    }
   ],
   "source": [
    "print((location.latitude, location.longitude))"
   ]
  },
  {
   "cell_type": "code",
   "execution_count": 18,
   "id": "285de4c6",
   "metadata": {},
   "outputs": [],
   "source": [
    "#does not work, attempted to run a series through geopy \n",
    "#for i in range(-1,673):\n",
    "#    \n",
    "#    i = 0\n",
    "#    location_port = geolocator.geocode(\"ports[i]\")\n",
    "#    print((location_port.latitude, location_port.longitude))\n",
    "#    i += 1\n",
    "#\n",
    "#print(i) "
   ]
  },
  {
   "cell_type": "code",
   "execution_count": 19,
   "id": "4ccf347f",
   "metadata": {},
   "outputs": [],
   "source": [
    "#For loop from 0 to 2, therefore running 3 times.\n",
    "\n",
    "\n",
    "# for x in range(0, 3):\n",
    "#   print(\"We're on time %d\" % (x))"
   ]
  },
  {
   "cell_type": "code",
   "execution_count": 20,
   "id": "86d30d6e",
   "metadata": {},
   "outputs": [
    {
     "name": "stdout",
     "output_type": "stream",
     "text": [
      "Heartland Way, 1, Ports of Indiana - Jeffersonville, Jeffersonville, Clark County, Indiana, 47130, United States\n",
      "(38.3310669, -85.6859233)\n"
     ]
    }
   ],
   "source": [
    "#yields wrong row 1 address, but lat and long agree with address  \n",
    "location = geolocator.geocode(\"ports[1]\")\n",
    "\n",
    "print(location.address)\n",
    "print((location.latitude, location.longitude))"
   ]
  },
  {
   "cell_type": "code",
   "execution_count": 21,
   "id": "6d0478f4",
   "metadata": {},
   "outputs": [
    {
     "name": "stdout",
     "output_type": "stream",
     "text": [
      "(13.5897967, -89.8297601)\n"
     ]
    }
   ],
   "source": [
    "#correct address and lat & long\n",
    "location_elsal = geolocator.geocode(\"Acajutla, El Salvador\")\n",
    "print((location_elsal.latitude, location_elsal.longitude))"
   ]
  },
  {
   "cell_type": "code",
   "execution_count": 22,
   "id": "1e1c5a36",
   "metadata": {},
   "outputs": [],
   "source": [
    "#location_ports = ports.geolocator.geocode()"
   ]
  },
  {
   "cell_type": "code",
   "execution_count": 23,
   "id": "fc004e08",
   "metadata": {},
   "outputs": [
    {
     "data": {
      "text/plain": [
       "<pandas.core.indexing._LocIndexer at 0x7f855c3f8f40>"
      ]
     },
     "execution_count": 23,
     "metadata": {},
     "output_type": "execute_result"
    }
   ],
   "source": [
    "#isolate ports\n",
    "ports.loc()"
   ]
  },
  {
   "cell_type": "code",
   "execution_count": 24,
   "id": "382055bf",
   "metadata": {},
   "outputs": [],
   "source": [
    "#review error\n",
    "\n",
    "#i = 0 \n",
    "\n",
    "#for i in range(0,672):\n",
    "#    port = ports[i]\n",
    " #   location = geolocator.geocode('port')\n",
    "  #  print((location.latitude, location.longitude))\n",
    "   # print(i)\n",
    "    \n",
    "    #i += 1\n",
    "    \n",
    "#return(i)\n",
    "\n",
    "#location = geolocator.geocode([ports.loc()])\n",
    "#print((location.latitude, location.longitude))"
   ]
  },
  {
   "cell_type": "code",
   "execution_count": 25,
   "id": "ab85dfc9",
   "metadata": {},
   "outputs": [],
   "source": [
    "#location = geolocator.geocode('')\n",
    "#print((location.latitude, location.longitude))  HAS ERROR"
   ]
  },
  {
   "cell_type": "code",
   "execution_count": 26,
   "id": "1f685f0d",
   "metadata": {},
   "outputs": [
    {
     "data": {
      "text/plain": [
       "1      Acajutla, El Salvador\n",
       "27          Acapulco, Mexico\n",
       "26          Acapulco, Mexico\n",
       "25          Acapulco, Mexico\n",
       "24          Acapulco, Mexico\n",
       "               ...          \n",
       "668          Yokohama, Japan\n",
       "669          Yokohama, Japan\n",
       "671      Zihuatenejo, Mexico\n",
       "670      Zihuatenejo, Mexico\n",
       "672      Zihuatenejo, Mexico\n",
       "Name: Stops / Ports, Length: 672, dtype: object"
      ]
     },
     "execution_count": 26,
     "metadata": {},
     "output_type": "execute_result"
    }
   ],
   "source": [
    "#alphebitize values and match like ports\n",
    "ports.sort_values()"
   ]
  },
  {
   "cell_type": "code",
   "execution_count": 27,
   "id": "d19ffb1d",
   "metadata": {},
   "outputs": [],
   "source": [
    "#create a new series dropping duplicated ports \n",
    "cut_ports = ports.drop_duplicates()"
   ]
  },
  {
   "cell_type": "code",
   "execution_count": 28,
   "id": "979d75d8",
   "metadata": {},
   "outputs": [
    {
     "name": "stdout",
     "output_type": "stream",
     "text": [
      "(16.8680495, -99.8940182)\n"
     ]
    }
   ],
   "source": [
    "#testing geopy function\n",
    "location = geolocator.geocode('Acapulco, Mexico')      #location does work with name input\n",
    "print((location.latitude, location.longitude))"
   ]
  },
  {
   "cell_type": "markdown",
   "id": "9fe2100a",
   "metadata": {},
   "source": [
    "***need to figure out how to run a string of names through geolocator.geocode('name')***"
   ]
  },
  {
   "cell_type": "code",
   "execution_count": 29,
   "id": "8d178091",
   "metadata": {},
   "outputs": [
    {
     "name": "stdout",
     "output_type": "stream",
     "text": [
      "1            Acajutla, El Salvador\n",
      "2                 Acapulco, Mexico\n",
      "28            Alameda   (shipyard)\n",
      "30               Alexandria, Egypt\n",
      "31                Algiers, Algeria\n",
      "                  ...             \n",
      "656            Vladivostok, Russia\n",
      "657                  Washington DC\n",
      "659    Willemstad, Curacao, D.W.I.\n",
      "668                Yokohama, Japan\n",
      "670            Zihuatenejo, Mexico\n",
      "Name: Stops / Ports, Length: 155, dtype: object\n"
     ]
    }
   ],
   "source": [
    "#view series\n",
    "print(cut_ports)"
   ]
  },
  {
   "cell_type": "markdown",
   "id": "697f0d8d",
   "metadata": {},
   "source": [
    "### sample code from ChatGPT\n",
    "#from geopy.geocoders import Nominatim\n",
    "\n",
    "#def get_lat_long(cut_port):\n",
    "    geolocator = Nominatim(user_agent=\"jupyter\")\n",
    "    location = geolocator.geocode(cut_ports)\n",
    "    if location:\n",
    "        return location.latitude, location.longitude\n",
    "    else:\n",
    "        return None, None\n",
    "\n",
    "def convert_names_to_coordinates(cut_ports):\n",
    "    coordinates = []\n",
    "    for name in names:\n",
    "        lat, lon = get_lat_long(cut_ports)\n",
    "        coordinates.append((name, lat, lon))\n",
    "    return coordinates\n",
    "\n",
    "Example usage:\n",
    "names = [\"New York\", \"London\", \"Tokyo\"]\n",
    "coordinates = convert_names_to_coordinates(names)\n",
    "for name, lat, lon in coordinates:\n",
    "    print(f\"{name}: Latitude = {lat}, Longitude = {lon}\")"
   ]
  },
  {
   "cell_type": "code",
   "execution_count": 30,
   "id": "c2594663",
   "metadata": {},
   "outputs": [
    {
     "data": {
      "text/plain": [
       "pandas.core.series.Series"
      ]
     },
     "execution_count": 30,
     "metadata": {},
     "output_type": "execute_result"
    }
   ],
   "source": [
    "#view data type of cut_port\n",
    "type(cut_ports)"
   ]
  },
  {
   "cell_type": "code",
   "execution_count": 31,
   "id": "91ccd2ca",
   "metadata": {},
   "outputs": [],
   "source": [
    "#create list by transforming (wording?) series to list\n",
    "list_cut_ports = cut_ports.to_list()"
   ]
  },
  {
   "cell_type": "code",
   "execution_count": 32,
   "id": "5adadfb3",
   "metadata": {},
   "outputs": [
    {
     "data": {
      "text/plain": [
       "pandas.core.series.Series"
      ]
     },
     "execution_count": 32,
     "metadata": {},
     "output_type": "execute_result"
    }
   ],
   "source": [
    "#view data type of cut_ports to ensure it is still a series\n",
    "type(cut_ports)"
   ]
  },
  {
   "cell_type": "code",
   "execution_count": 33,
   "id": "b828553d",
   "metadata": {},
   "outputs": [
    {
     "data": {
      "text/plain": [
       "list"
      ]
     },
     "execution_count": 33,
     "metadata": {},
     "output_type": "execute_result"
    }
   ],
   "source": [
    "#view data type of new list, ensure it is a list\n",
    "type(list_cut_ports)"
   ]
  },
  {
   "cell_type": "code",
   "execution_count": 34,
   "id": "2cf44773",
   "metadata": {},
   "outputs": [
    {
     "data": {
      "text/plain": [
       "['Acajutla, El Salvador',\n",
       " 'Acapulco, Mexico',\n",
       " 'Alameda   (shipyard)',\n",
       " 'Alexandria, Egypt',\n",
       " 'Algiers, Algeria',\n",
       " 'Amapala, Honduras',\n",
       " 'Anchorage, Alaska',\n",
       " 'Annapolis, Maryland',\n",
       " 'Antofagasta, Chile',\n",
       " 'Apia,  W.Samoa',\n",
       " 'Apra, Guam, Marianas',\n",
       " 'Astoria, Oregon',\n",
       " 'Auckland, New Zealand',\n",
       " 'Bahia de Todos Santos, Mex',\n",
       " 'Balboa, Panama',\n",
       " 'Barcelona, Spain',\n",
       " 'Bitung, Indonesia',\n",
       " 'Brisbane, Australia',\n",
       " 'Buenaventura, Colombia',\n",
       " 'Buenos Aries, Argentina',\n",
       " 'Cabo San Lucas, Mex',\n",
       " 'Cairns, Australia',\n",
       " 'Callao, Peru',\n",
       " 'Caragena, Colombia',\n",
       " 'Caragena, Columbia',\n",
       " 'Cebu City, Philippines',\n",
       " 'Cedros Island, Mex.',\n",
       " 'Channel Island',\n",
       " 'Cocos Island, Costa Rica',\n",
       " 'Colonia, Yap,  W.Caroline Isl.',\n",
       " 'Columbo, Ceylon',\n",
       " 'Coos Bay, Oregon',\n",
       " 'Costa Rica',\n",
       " 'Crescent City',\n",
       " 'Cristobal, Panama',\n",
       " 'Easter Island, Chile',\n",
       " 'Ensenada, Mexico',\n",
       " 'Eureka CA',\n",
       " 'Funchal, Madeira',\n",
       " 'Galapagos Islands, Ecuador',\n",
       " 'Genoa, Italy',\n",
       " 'Georgetown, Grand Cayman',\n",
       " 'Gibraltar, Spain',\n",
       " 'Glacier Bay, Alaska',\n",
       " 'Guantanamo, Cuba',\n",
       " 'Guayaquil, Ecuador',\n",
       " 'Gulf of Panama',\n",
       " 'Hampton Roads, Virginia',\n",
       " 'Harumi, Japan',\n",
       " 'Havana, Cuba',\n",
       " 'Hilo, Hawaii',\n",
       " 'Hong Kong, B.C.C.',\n",
       " 'Honolulu Hawaii',\n",
       " 'Houston Texas',\n",
       " 'Iquique, Chile',\n",
       " 'Isla Cedos, Mexico',\n",
       " 'Isla Cedros, Mexico',\n",
       " 'Isla Roatan, Honduras',\n",
       " 'Juneau, Alaska',\n",
       " 'Kahului, Maui, Hawaii',\n",
       " 'Kailua-Kona, Hawaii',\n",
       " 'Ketchikan, Alaska',\n",
       " 'Kingston, Jamaica',\n",
       " 'Kobe Japan',\n",
       " 'Kodiak, Alaska',\n",
       " 'La Union, Salvador',\n",
       " 'Lahaina Roads, Hawaii',\n",
       " 'Lahaina, Maui, Hawaii',\n",
       " 'Lazaro Cardenas, Mexico',\n",
       " 'Long Beach, Calif',\n",
       " 'Magdalena Bay, Mexico',\n",
       " 'Majuro Atoll, Marshall Islands',\n",
       " 'Manila, Philippines',\n",
       " 'Manzanillo, Mexico',\n",
       " 'MARAD fleet, Suisun Bay',\n",
       " 'Marseilles, France',\n",
       " 'Mazatlan, Mexico',\n",
       " 'Melbourne, Australia',\n",
       " 'Miami, Florida',\n",
       " 'Midway',\n",
       " 'Monterey, Calif.',\n",
       " 'Montevideo, Uruguay',\n",
       " 'Morrow Cove',\n",
       " 'Naha, Okinawa, Japan',\n",
       " 'Naples, Italy',\n",
       " 'Naples, Italy            ',\n",
       " 'Nawiliwili, Kauai, Hawaii',\n",
       " 'New Orleans',\n",
       " 'New York City NY',\n",
       " 'Newport News, Virginia',\n",
       " 'Noumea, New Caledonia',\n",
       " 'Nuka Hiva, Marquesas',\n",
       " 'Nukua Lopa, Tonga',\n",
       " 'Nukualofa, Tonga Islands',\n",
       " 'Oakland',\n",
       " 'Oakland ',\n",
       " 'Pago Pago, Am. Samoa',\n",
       " 'Pago Pago, Am.Samoa',\n",
       " 'Palmyra Island',\n",
       " 'Papeete, Tahiti',\n",
       " 'Pireaus, Greece',\n",
       " 'Port Hueneme, Calif.',\n",
       " 'Port of Spain, Trinidad',\n",
       " 'Port Said, Egypt',\n",
       " 'Port San Luis',\n",
       " 'Portland, Oregon',\n",
       " 'Prince William Sound',\n",
       " 'Puerto Vallarta, Mex',\n",
       " 'Punta Arenas, Chile',\n",
       " 'Punta Arenas, Costa Rica',\n",
       " 'Pusan, Korea',\n",
       " 'Quepos, Costa Rica',\n",
       " 'Rarotanga',\n",
       " 'Redwood Creek',\n",
       " 'Richmond, Calif.',\n",
       " 'Rio de Janeiro, Brazil',\n",
       " 'Robinson Crusoe Island, Chile',\n",
       " 'Sacramento',\n",
       " 'Saipan, Marianas Islands',\n",
       " 'San Blas Island, Panama',\n",
       " 'San Clemente Island',\n",
       " 'San Diego, Calif',\n",
       " 'San Fran Bay',\n",
       " 'San Francisco',\n",
       " 'San Francisco   ',\n",
       " 'San Jose, Guatamala',\n",
       " 'San Jose, Guatemala',\n",
       " 'San Juan, Puerto Rico',\n",
       " 'San Pablo Bay',\n",
       " 'Santa Barbara, Calif.',\n",
       " 'Santa Catalina Island',\n",
       " 'Santa Cruz, Calif.',\n",
       " 'Sasebo, Japan',\n",
       " 'Seattle, Wash',\n",
       " 'Shanghai, China',\n",
       " 'Singapore',\n",
       " 'Sitka, Alaska',\n",
       " 'St. Elmo Bay, Panama',\n",
       " 'St. Thomas, Virgin Islands',\n",
       " 'Stockton',\n",
       " 'Subic Bay, Philippines',\n",
       " 'Suva, Fiji Islands',\n",
       " 'Sydney, Australia',\n",
       " 'Tiburon',\n",
       " 'Treasure Island, CA',\n",
       " 'Vallejo',\n",
       " 'Valparaiso, Chile',\n",
       " 'Vancouver, B.C.',\n",
       " 'Vera Cruz, Mexico',\n",
       " 'Villefrenche, France',\n",
       " 'Vladivostok, Russia',\n",
       " 'Washington DC',\n",
       " 'Willemstad, Curacao, D.W.I.',\n",
       " 'Yokohama, Japan',\n",
       " 'Zihuatenejo, Mexico']"
      ]
     },
     "execution_count": 34,
     "metadata": {},
     "output_type": "execute_result"
    }
   ],
   "source": [
    "#view list\n",
    "list_cut_ports"
   ]
  },
  {
   "cell_type": "markdown",
   "id": "bf667056",
   "metadata": {},
   "source": [
    "### from ChatGPT modified for my data\n",
    "\n",
    "def get_lat_long(address):                 \n",
    "    geolocator = Nominatim(user_agent=\"jupyter\")\n",
    "    location = geolocator.geocode(address)\n",
    "    if location:\n",
    "        return location.latitude, location.longitude\n",
    "    else:\n",
    "        return None, None\n",
    "    \n",
    "def convert_names_to_coordinates(list_cut_ports):\n",
    "    coordinates = []\n",
    "    for x in list_cut_ports:\n",
    "        lat, lon = get_lat_long(list_cut_ports)\n",
    "        coordinates.append((x, lat, lon))\n",
    "    return coordinates"
   ]
  },
  {
   "cell_type": "markdown",
   "id": "61b67116",
   "metadata": {},
   "source": [
    "### ran for ever a minute with no execution, something is wrong\n",
    "#names = [\"New York\", \"London\", \"Tokyo\"]\n",
    "coordinates = convert_names_to_coordinates(list_cut_ports)\n",
    "for x, lat, lon in coordinates:\n",
    "    print(f\"{x}: Latitude = {lat}, Longitude = {lon}\")"
   ]
  },
  {
   "cell_type": "code",
   "execution_count": 35,
   "id": "074af76f",
   "metadata": {},
   "outputs": [],
   "source": [
    "#define function which takes in a port name and returns a lat and long\n",
    "\n",
    "def convert(name_port):\n",
    "    \n",
    "    location = geolocator.geocode(name_port)\n",
    "    \n",
    "    if location == None:\n",
    "        \n",
    "        address = 'No location data available.'          #add in \"for name_port\" filler\n",
    "        lat     = 'No latitude available.'                                             \n",
    "        long    = 'No longitude available.'\n",
    "    \n",
    "    else: \n",
    "            \n",
    "        address  = location.address\n",
    "        lat      = location.latitude\n",
    "        long     = location.longitude\n",
    "\n",
    "        #print(name_port) add in for checking work, when url is clear \n",
    "        print(location.address)\n",
    "        print((location.latitude, location.longitude))\n",
    "    \n",
    "    return address, lat, long\n"
   ]
  },
  {
   "cell_type": "code",
   "execution_count": 36,
   "id": "c592c373",
   "metadata": {},
   "outputs": [
    {
     "name": "stdout",
     "output_type": "stream",
     "text": [
      "Acajutla, Municipio de Acajutla, Departamento de Sonsonate, El Salvador\n",
      "(13.5897967, -89.8297601)\n",
      "Acapulco, Acapulco de Juárez, Guerrero, 39300, México\n",
      "(16.8680495, -99.8940182)\n",
      "الإسكندرية, 21519, مصر\n",
      "(31.1991806, 29.8951716)\n",
      "Alger ⴷⵣⴰⵢⴻⵔ الجزائر, Alger-Centre, Daïra Sidi M'Hamed, Alger, 16007, Algérie ⵍⵣⵣⴰⵢⴻⵔ الجزائر\n",
      "(36.7753606, 3.0601882)\n",
      "Amapala, Valle, Honduras\n",
      "(13.3424588, -87.61858201432186)\n",
      "Anchorage, Alaska, 99501, United States\n",
      "(61.2163129, -149.894852)\n",
      "Annapolis, Anne Arundel County, Maryland, United States\n",
      "(38.9786401, -76.492786)\n",
      "Región de Antofagasta, Chile\n",
      "(-23.6041314, -69.0842783)\n",
      "Apia, Tuamasaga, Sāmoa\n",
      "(-13.8344639, -171.7649144)\n",
      "Astoria, Clatsop County, Oregon, 97103, United States\n",
      "(46.1882007, -123.8319802)\n",
      "Auckland, Waitematā, Auckland, 1010, New Zealand / Aotearoa\n",
      "(-36.852095, 174.7631803)\n",
      "Calle 6, Geovillas de la Asunción, Valle de Chalco Solidaridad, Estado de México, 56618, México\n",
      "(19.3285329, -98.9564353)\n",
      "Distrito Balboa, Panamá\n",
      "(8.34806215, -78.89618503510601)\n",
      "Barcelona, Barcelonès, Barcelona, Catalunya, 08001, España\n",
      "(41.3828939, 2.1774322)\n",
      "Bitung, Sulawesi Utara, Sulawesi, Indonesia\n",
      "(1.44344, 125.1940836)\n",
      "Brisbane City, Queensland, Australia\n",
      "(-27.4689682, 153.0234991)\n",
      "Buenaventura, Valle del Cauca, RAP Pacífico, Colombia\n",
      "(3.8881929, -77.0738324)\n",
      "Calle Cabo San Lucas, Colonia Ampliación Tulpetlac, Santa María Tulpetlac, Ecatepec de Morelos, Estado de México, 55418, México\n",
      "(19.5724903, -99.0605873)\n",
      "Cairns, Cairns Regional, Queensland, 4870, Australia\n",
      "(-16.9206657, 145.7721854)\n",
      "Callao, Perú\n",
      "(-12.0522626, -77.1391133)\n",
      "Cebu City, Central Visayas, Pilipinas\n",
      "(10.2931062, 123.9020773)\n",
      "Channel Island, Wrangell, Alaska, United States\n",
      "(56.363990799999996, -132.16530299479132)\n",
      "Isla del Coco, Cantón Puntarenas, Provincia Puntarenas, 60110, Costa Rica\n",
      "(5.52811005, -87.05976165965734)\n",
      "Coos Bay, Coos County, Oregon, 97420, United States\n",
      "(43.3678937, -124.2174647)\n",
      "Costa Rica\n",
      "(10.2735633, -84.0739102)\n",
      "Crescent City, Del Norte County, California, 75531, United States\n",
      "(41.7544965, -124.20262741331419)\n",
      "Cristóbal, Distrito Colón, Colón, 9851, Panamá\n",
      "(9.3530018, -79.9045593)\n",
      "Isla de Pascua, Provincia de Isla de Pascua, Región de Valparaíso, 2770000, Chile\n",
      "(-27.12593175, -109.3495887115113)\n",
      "Ensenada, Municipio de Ensenada, Baja California, México\n",
      "(31.8658887, -116.602983)\n",
      "Eureka, Humboldt County, California, United States\n",
      "(40.7906871, -124.1673746)\n",
      "Funchal, Madeira, Portugal\n",
      "(32.6496497, -16.9086783)\n",
      "Archipélago de Galápagos, Galápagos, Ecuador\n",
      "(-0.62881505, -90.3638752022324)\n",
      "Genova, Liguria, Italia\n",
      "(44.40726, 8.9338624)\n",
      "Grand Cayman Memorial Light, Seafarers Way, Rock Hole, Propose Queens Jubilee City Limit (Study Area), KY1-9000, Cayman Islands\n",
      "(19.2964536, -81.3831125)\n",
      "Gibraltar, Almendral, Llanos de Olivenza, Badajoz, Extremadura, España\n",
      "(38.627396, -6.8342139)\n",
      "Glacier Bay, Unorganized Borough, Alaska, United States\n",
      "(58.731407, -136.2242315722425)\n",
      "Guantánamo, Cuba\n",
      "(20.1431797, -75.2034783)\n",
      "Guayaquil, Guayas, Ecuador\n",
      "(-2.1900563, -79.8868741)\n",
      "Golfo de Panamá, Panamá\n",
      "(8.281861750000001, -79.77276892669653)\n",
      "Hampton Roads, Newport News, Virginia, United States\n",
      "(36.9507552, -76.41141865690076)\n",
      "晴海, 中央区, 東京都, 104-0053, 日本\n",
      "(35.652123200000005, 139.77942876708016)\n",
      "La Habana, La Habana Vieja, La Habana, 10000, Cuba\n",
      "(23.135305, -82.3589631)\n",
      "Hilo, Hawaiʻi County, Hawaii, 96720, United States\n",
      "(19.685445799999997, -155.10037544637729)\n",
      "Hong Kong, 4500, Kingsway, Metrotown, Burnaby, Metro Vancouver Regional District, British Columbia, V5H 2A7, Canada\n",
      "(49.2294259, -123.005151)\n",
      "Honolulu, Honolulu County, Hawaii, United States\n",
      "(21.304547, -157.855676)\n",
      "Houston, Harris County, Texas, United States\n",
      "(29.7589382, -95.3676974)\n",
      "Iquique, Provincia de Iquique, Región de Tarapacá, Chile\n",
      "(-20.2140657, -70.1524646)\n",
      "Isla de Cedros, Municipio de Ensenada, Baja California, 22990, México\n",
      "(28.20376165, -115.21312401604975)\n",
      "Isla de Roatán, Roatán, José Santos Guardiola, Islas de la Bahía, Honduras\n",
      "(16.34902105, -86.49775125625627)\n",
      "Juneau, Alaska, United States\n",
      "(58.3019496, -134.419734)\n",
      "Kahului, Maui County, Hawaii, United States\n",
      "(20.8894101, -156.4727118)\n",
      "Kailua, Hawaiʻi County, Hawaii, United States\n",
      "(19.641941, -155.996933)\n",
      "Ketchikan, Ketchikan Gateway, Alaska, 99901, United States\n",
      "(55.3430696, -131.6466819)\n",
      "Kingston, Kingston and Saint Andrew Corporation, Surrey County, Jamaica\n",
      "(17.9712148, -76.7928128)\n",
      "Kobe Japan, Kennewick Avenue, New Hampshire Gardens, Takoma Park, Montgomery County, Maryland, 20912, United States\n",
      "(38.9888851, -76.9893733)\n",
      "Kodiak, Kodiak Island, Alaska, United States\n",
      "(57.7916467, -152.41058452251687)\n",
      "La Unión, Municipio de La Unión, Departamento de La Unión, El Salvador\n",
      "(13.3371546, -87.8430528)\n",
      "Lahaina, Maui County, Hawaii, United States\n",
      "(20.88717735, -156.6748023632949)\n"
     ]
    },
    {
     "ename": "GeocoderUnavailable",
     "evalue": "HTTPSConnectionPool(host='nominatim.openstreetmap.org', port=443): Max retries exceeded with url: /search?q=Lazaro+Cardenas%2C+Mexico&format=json&limit=1 (Caused by ReadTimeoutError(\"HTTPSConnectionPool(host='nominatim.openstreetmap.org', port=443): Read timed out. (read timeout=1)\"))",
     "output_type": "error",
     "traceback": [
      "\u001b[0;31m---------------------------------------------------------------------------\u001b[0m",
      "\u001b[0;31mtimeout\u001b[0m                                   Traceback (most recent call last)",
      "File \u001b[0;32m~/opt/anaconda3/lib/python3.9/site-packages/urllib3/connectionpool.py:449\u001b[0m, in \u001b[0;36mHTTPConnectionPool._make_request\u001b[0;34m(self, conn, method, url, timeout, chunked, **httplib_request_kw)\u001b[0m\n\u001b[1;32m    445\u001b[0m         \u001b[38;5;28;01mexcept\u001b[39;00m \u001b[38;5;167;01mBaseException\u001b[39;00m \u001b[38;5;28;01mas\u001b[39;00m e:\n\u001b[1;32m    446\u001b[0m             \u001b[38;5;66;03m# Remove the TypeError from the exception chain in\u001b[39;00m\n\u001b[1;32m    447\u001b[0m             \u001b[38;5;66;03m# Python 3 (including for exceptions like SystemExit).\u001b[39;00m\n\u001b[1;32m    448\u001b[0m             \u001b[38;5;66;03m# Otherwise it looks like a bug in the code.\u001b[39;00m\n\u001b[0;32m--> 449\u001b[0m             \u001b[43msix\u001b[49m\u001b[38;5;241;43m.\u001b[39;49m\u001b[43mraise_from\u001b[49m\u001b[43m(\u001b[49m\u001b[43me\u001b[49m\u001b[43m,\u001b[49m\u001b[43m \u001b[49m\u001b[38;5;28;43;01mNone\u001b[39;49;00m\u001b[43m)\u001b[49m\n\u001b[1;32m    450\u001b[0m \u001b[38;5;28;01mexcept\u001b[39;00m (SocketTimeout, BaseSSLError, SocketError) \u001b[38;5;28;01mas\u001b[39;00m e:\n",
      "File \u001b[0;32m<string>:3\u001b[0m, in \u001b[0;36mraise_from\u001b[0;34m(value, from_value)\u001b[0m\n",
      "File \u001b[0;32m~/opt/anaconda3/lib/python3.9/site-packages/urllib3/connectionpool.py:444\u001b[0m, in \u001b[0;36mHTTPConnectionPool._make_request\u001b[0;34m(self, conn, method, url, timeout, chunked, **httplib_request_kw)\u001b[0m\n\u001b[1;32m    443\u001b[0m \u001b[38;5;28;01mtry\u001b[39;00m:\n\u001b[0;32m--> 444\u001b[0m     httplib_response \u001b[38;5;241m=\u001b[39m \u001b[43mconn\u001b[49m\u001b[38;5;241;43m.\u001b[39;49m\u001b[43mgetresponse\u001b[49m\u001b[43m(\u001b[49m\u001b[43m)\u001b[49m\n\u001b[1;32m    445\u001b[0m \u001b[38;5;28;01mexcept\u001b[39;00m \u001b[38;5;167;01mBaseException\u001b[39;00m \u001b[38;5;28;01mas\u001b[39;00m e:\n\u001b[1;32m    446\u001b[0m     \u001b[38;5;66;03m# Remove the TypeError from the exception chain in\u001b[39;00m\n\u001b[1;32m    447\u001b[0m     \u001b[38;5;66;03m# Python 3 (including for exceptions like SystemExit).\u001b[39;00m\n\u001b[1;32m    448\u001b[0m     \u001b[38;5;66;03m# Otherwise it looks like a bug in the code.\u001b[39;00m\n",
      "File \u001b[0;32m~/opt/anaconda3/lib/python3.9/http/client.py:1377\u001b[0m, in \u001b[0;36mHTTPConnection.getresponse\u001b[0;34m(self)\u001b[0m\n\u001b[1;32m   1376\u001b[0m \u001b[38;5;28;01mtry\u001b[39;00m:\n\u001b[0;32m-> 1377\u001b[0m     \u001b[43mresponse\u001b[49m\u001b[38;5;241;43m.\u001b[39;49m\u001b[43mbegin\u001b[49m\u001b[43m(\u001b[49m\u001b[43m)\u001b[49m\n\u001b[1;32m   1378\u001b[0m \u001b[38;5;28;01mexcept\u001b[39;00m \u001b[38;5;167;01mConnectionError\u001b[39;00m:\n",
      "File \u001b[0;32m~/opt/anaconda3/lib/python3.9/http/client.py:320\u001b[0m, in \u001b[0;36mHTTPResponse.begin\u001b[0;34m(self)\u001b[0m\n\u001b[1;32m    319\u001b[0m \u001b[38;5;28;01mwhile\u001b[39;00m \u001b[38;5;28;01mTrue\u001b[39;00m:\n\u001b[0;32m--> 320\u001b[0m     version, status, reason \u001b[38;5;241m=\u001b[39m \u001b[38;5;28;43mself\u001b[39;49m\u001b[38;5;241;43m.\u001b[39;49m\u001b[43m_read_status\u001b[49m\u001b[43m(\u001b[49m\u001b[43m)\u001b[49m\n\u001b[1;32m    321\u001b[0m     \u001b[38;5;28;01mif\u001b[39;00m status \u001b[38;5;241m!=\u001b[39m CONTINUE:\n",
      "File \u001b[0;32m~/opt/anaconda3/lib/python3.9/http/client.py:281\u001b[0m, in \u001b[0;36mHTTPResponse._read_status\u001b[0;34m(self)\u001b[0m\n\u001b[1;32m    280\u001b[0m \u001b[38;5;28;01mdef\u001b[39;00m \u001b[38;5;21m_read_status\u001b[39m(\u001b[38;5;28mself\u001b[39m):\n\u001b[0;32m--> 281\u001b[0m     line \u001b[38;5;241m=\u001b[39m \u001b[38;5;28mstr\u001b[39m(\u001b[38;5;28;43mself\u001b[39;49m\u001b[38;5;241;43m.\u001b[39;49m\u001b[43mfp\u001b[49m\u001b[38;5;241;43m.\u001b[39;49m\u001b[43mreadline\u001b[49m\u001b[43m(\u001b[49m\u001b[43m_MAXLINE\u001b[49m\u001b[43m \u001b[49m\u001b[38;5;241;43m+\u001b[39;49m\u001b[43m \u001b[49m\u001b[38;5;241;43m1\u001b[39;49m\u001b[43m)\u001b[49m, \u001b[38;5;124m\"\u001b[39m\u001b[38;5;124miso-8859-1\u001b[39m\u001b[38;5;124m\"\u001b[39m)\n\u001b[1;32m    282\u001b[0m     \u001b[38;5;28;01mif\u001b[39;00m \u001b[38;5;28mlen\u001b[39m(line) \u001b[38;5;241m>\u001b[39m _MAXLINE:\n",
      "File \u001b[0;32m~/opt/anaconda3/lib/python3.9/socket.py:704\u001b[0m, in \u001b[0;36mSocketIO.readinto\u001b[0;34m(self, b)\u001b[0m\n\u001b[1;32m    703\u001b[0m \u001b[38;5;28;01mtry\u001b[39;00m:\n\u001b[0;32m--> 704\u001b[0m     \u001b[38;5;28;01mreturn\u001b[39;00m \u001b[38;5;28;43mself\u001b[39;49m\u001b[38;5;241;43m.\u001b[39;49m\u001b[43m_sock\u001b[49m\u001b[38;5;241;43m.\u001b[39;49m\u001b[43mrecv_into\u001b[49m\u001b[43m(\u001b[49m\u001b[43mb\u001b[49m\u001b[43m)\u001b[49m\n\u001b[1;32m    705\u001b[0m \u001b[38;5;28;01mexcept\u001b[39;00m timeout:\n",
      "File \u001b[0;32m~/opt/anaconda3/lib/python3.9/ssl.py:1241\u001b[0m, in \u001b[0;36mSSLSocket.recv_into\u001b[0;34m(self, buffer, nbytes, flags)\u001b[0m\n\u001b[1;32m   1238\u001b[0m         \u001b[38;5;28;01mraise\u001b[39;00m \u001b[38;5;167;01mValueError\u001b[39;00m(\n\u001b[1;32m   1239\u001b[0m           \u001b[38;5;124m\"\u001b[39m\u001b[38;5;124mnon-zero flags not allowed in calls to recv_into() on \u001b[39m\u001b[38;5;132;01m%s\u001b[39;00m\u001b[38;5;124m\"\u001b[39m \u001b[38;5;241m%\u001b[39m\n\u001b[1;32m   1240\u001b[0m           \u001b[38;5;28mself\u001b[39m\u001b[38;5;241m.\u001b[39m\u001b[38;5;18m__class__\u001b[39m)\n\u001b[0;32m-> 1241\u001b[0m     \u001b[38;5;28;01mreturn\u001b[39;00m \u001b[38;5;28;43mself\u001b[39;49m\u001b[38;5;241;43m.\u001b[39;49m\u001b[43mread\u001b[49m\u001b[43m(\u001b[49m\u001b[43mnbytes\u001b[49m\u001b[43m,\u001b[49m\u001b[43m \u001b[49m\u001b[43mbuffer\u001b[49m\u001b[43m)\u001b[49m\n\u001b[1;32m   1242\u001b[0m \u001b[38;5;28;01melse\u001b[39;00m:\n",
      "File \u001b[0;32m~/opt/anaconda3/lib/python3.9/ssl.py:1099\u001b[0m, in \u001b[0;36mSSLSocket.read\u001b[0;34m(self, len, buffer)\u001b[0m\n\u001b[1;32m   1098\u001b[0m \u001b[38;5;28;01mif\u001b[39;00m buffer \u001b[38;5;129;01mis\u001b[39;00m \u001b[38;5;129;01mnot\u001b[39;00m \u001b[38;5;28;01mNone\u001b[39;00m:\n\u001b[0;32m-> 1099\u001b[0m     \u001b[38;5;28;01mreturn\u001b[39;00m \u001b[38;5;28;43mself\u001b[39;49m\u001b[38;5;241;43m.\u001b[39;49m\u001b[43m_sslobj\u001b[49m\u001b[38;5;241;43m.\u001b[39;49m\u001b[43mread\u001b[49m\u001b[43m(\u001b[49m\u001b[38;5;28;43mlen\u001b[39;49m\u001b[43m,\u001b[49m\u001b[43m \u001b[49m\u001b[43mbuffer\u001b[49m\u001b[43m)\u001b[49m\n\u001b[1;32m   1100\u001b[0m \u001b[38;5;28;01melse\u001b[39;00m:\n",
      "\u001b[0;31mtimeout\u001b[0m: The read operation timed out",
      "\nDuring handling of the above exception, another exception occurred:\n",
      "\u001b[0;31mReadTimeoutError\u001b[0m                          Traceback (most recent call last)",
      "File \u001b[0;32m~/opt/anaconda3/lib/python3.9/site-packages/urllib3/connectionpool.py:703\u001b[0m, in \u001b[0;36mHTTPConnectionPool.urlopen\u001b[0;34m(self, method, url, body, headers, retries, redirect, assert_same_host, timeout, pool_timeout, release_conn, chunked, body_pos, **response_kw)\u001b[0m\n\u001b[1;32m    702\u001b[0m \u001b[38;5;66;03m# Make the request on the httplib connection object.\u001b[39;00m\n\u001b[0;32m--> 703\u001b[0m httplib_response \u001b[38;5;241m=\u001b[39m \u001b[38;5;28;43mself\u001b[39;49m\u001b[38;5;241;43m.\u001b[39;49m\u001b[43m_make_request\u001b[49m\u001b[43m(\u001b[49m\n\u001b[1;32m    704\u001b[0m \u001b[43m    \u001b[49m\u001b[43mconn\u001b[49m\u001b[43m,\u001b[49m\n\u001b[1;32m    705\u001b[0m \u001b[43m    \u001b[49m\u001b[43mmethod\u001b[49m\u001b[43m,\u001b[49m\n\u001b[1;32m    706\u001b[0m \u001b[43m    \u001b[49m\u001b[43murl\u001b[49m\u001b[43m,\u001b[49m\n\u001b[1;32m    707\u001b[0m \u001b[43m    \u001b[49m\u001b[43mtimeout\u001b[49m\u001b[38;5;241;43m=\u001b[39;49m\u001b[43mtimeout_obj\u001b[49m\u001b[43m,\u001b[49m\n\u001b[1;32m    708\u001b[0m \u001b[43m    \u001b[49m\u001b[43mbody\u001b[49m\u001b[38;5;241;43m=\u001b[39;49m\u001b[43mbody\u001b[49m\u001b[43m,\u001b[49m\n\u001b[1;32m    709\u001b[0m \u001b[43m    \u001b[49m\u001b[43mheaders\u001b[49m\u001b[38;5;241;43m=\u001b[39;49m\u001b[43mheaders\u001b[49m\u001b[43m,\u001b[49m\n\u001b[1;32m    710\u001b[0m \u001b[43m    \u001b[49m\u001b[43mchunked\u001b[49m\u001b[38;5;241;43m=\u001b[39;49m\u001b[43mchunked\u001b[49m\u001b[43m,\u001b[49m\n\u001b[1;32m    711\u001b[0m \u001b[43m\u001b[49m\u001b[43m)\u001b[49m\n\u001b[1;32m    713\u001b[0m \u001b[38;5;66;03m# If we're going to release the connection in ``finally:``, then\u001b[39;00m\n\u001b[1;32m    714\u001b[0m \u001b[38;5;66;03m# the response doesn't need to know about the connection. Otherwise\u001b[39;00m\n\u001b[1;32m    715\u001b[0m \u001b[38;5;66;03m# it will also try to release it and we'll have a double-release\u001b[39;00m\n\u001b[1;32m    716\u001b[0m \u001b[38;5;66;03m# mess.\u001b[39;00m\n",
      "File \u001b[0;32m~/opt/anaconda3/lib/python3.9/site-packages/urllib3/connectionpool.py:451\u001b[0m, in \u001b[0;36mHTTPConnectionPool._make_request\u001b[0;34m(self, conn, method, url, timeout, chunked, **httplib_request_kw)\u001b[0m\n\u001b[1;32m    450\u001b[0m \u001b[38;5;28;01mexcept\u001b[39;00m (SocketTimeout, BaseSSLError, SocketError) \u001b[38;5;28;01mas\u001b[39;00m e:\n\u001b[0;32m--> 451\u001b[0m     \u001b[38;5;28;43mself\u001b[39;49m\u001b[38;5;241;43m.\u001b[39;49m\u001b[43m_raise_timeout\u001b[49m\u001b[43m(\u001b[49m\u001b[43merr\u001b[49m\u001b[38;5;241;43m=\u001b[39;49m\u001b[43me\u001b[49m\u001b[43m,\u001b[49m\u001b[43m \u001b[49m\u001b[43murl\u001b[49m\u001b[38;5;241;43m=\u001b[39;49m\u001b[43murl\u001b[49m\u001b[43m,\u001b[49m\u001b[43m \u001b[49m\u001b[43mtimeout_value\u001b[49m\u001b[38;5;241;43m=\u001b[39;49m\u001b[43mread_timeout\u001b[49m\u001b[43m)\u001b[49m\n\u001b[1;32m    452\u001b[0m     \u001b[38;5;28;01mraise\u001b[39;00m\n",
      "File \u001b[0;32m~/opt/anaconda3/lib/python3.9/site-packages/urllib3/connectionpool.py:340\u001b[0m, in \u001b[0;36mHTTPConnectionPool._raise_timeout\u001b[0;34m(self, err, url, timeout_value)\u001b[0m\n\u001b[1;32m    339\u001b[0m \u001b[38;5;28;01mif\u001b[39;00m \u001b[38;5;28misinstance\u001b[39m(err, SocketTimeout):\n\u001b[0;32m--> 340\u001b[0m     \u001b[38;5;28;01mraise\u001b[39;00m ReadTimeoutError(\n\u001b[1;32m    341\u001b[0m         \u001b[38;5;28mself\u001b[39m, url, \u001b[38;5;124m\"\u001b[39m\u001b[38;5;124mRead timed out. (read timeout=\u001b[39m\u001b[38;5;132;01m%s\u001b[39;00m\u001b[38;5;124m)\u001b[39m\u001b[38;5;124m\"\u001b[39m \u001b[38;5;241m%\u001b[39m timeout_value\n\u001b[1;32m    342\u001b[0m     )\n\u001b[1;32m    344\u001b[0m \u001b[38;5;66;03m# See the above comment about EAGAIN in Python 3. In Python 2 we have\u001b[39;00m\n\u001b[1;32m    345\u001b[0m \u001b[38;5;66;03m# to specifically catch it and throw the timeout error\u001b[39;00m\n",
      "\u001b[0;31mReadTimeoutError\u001b[0m: HTTPSConnectionPool(host='nominatim.openstreetmap.org', port=443): Read timed out. (read timeout=1)",
      "\nDuring handling of the above exception, another exception occurred:\n",
      "\u001b[0;31mMaxRetryError\u001b[0m                             Traceback (most recent call last)",
      "File \u001b[0;32m~/opt/anaconda3/lib/python3.9/site-packages/requests/adapters.py:440\u001b[0m, in \u001b[0;36mHTTPAdapter.send\u001b[0;34m(self, request, stream, timeout, verify, cert, proxies)\u001b[0m\n\u001b[1;32m    439\u001b[0m \u001b[38;5;28;01mif\u001b[39;00m \u001b[38;5;129;01mnot\u001b[39;00m chunked:\n\u001b[0;32m--> 440\u001b[0m     resp \u001b[38;5;241m=\u001b[39m \u001b[43mconn\u001b[49m\u001b[38;5;241;43m.\u001b[39;49m\u001b[43murlopen\u001b[49m\u001b[43m(\u001b[49m\n\u001b[1;32m    441\u001b[0m \u001b[43m        \u001b[49m\u001b[43mmethod\u001b[49m\u001b[38;5;241;43m=\u001b[39;49m\u001b[43mrequest\u001b[49m\u001b[38;5;241;43m.\u001b[39;49m\u001b[43mmethod\u001b[49m\u001b[43m,\u001b[49m\n\u001b[1;32m    442\u001b[0m \u001b[43m        \u001b[49m\u001b[43murl\u001b[49m\u001b[38;5;241;43m=\u001b[39;49m\u001b[43murl\u001b[49m\u001b[43m,\u001b[49m\n\u001b[1;32m    443\u001b[0m \u001b[43m        \u001b[49m\u001b[43mbody\u001b[49m\u001b[38;5;241;43m=\u001b[39;49m\u001b[43mrequest\u001b[49m\u001b[38;5;241;43m.\u001b[39;49m\u001b[43mbody\u001b[49m\u001b[43m,\u001b[49m\n\u001b[1;32m    444\u001b[0m \u001b[43m        \u001b[49m\u001b[43mheaders\u001b[49m\u001b[38;5;241;43m=\u001b[39;49m\u001b[43mrequest\u001b[49m\u001b[38;5;241;43m.\u001b[39;49m\u001b[43mheaders\u001b[49m\u001b[43m,\u001b[49m\n\u001b[1;32m    445\u001b[0m \u001b[43m        \u001b[49m\u001b[43mredirect\u001b[49m\u001b[38;5;241;43m=\u001b[39;49m\u001b[38;5;28;43;01mFalse\u001b[39;49;00m\u001b[43m,\u001b[49m\n\u001b[1;32m    446\u001b[0m \u001b[43m        \u001b[49m\u001b[43massert_same_host\u001b[49m\u001b[38;5;241;43m=\u001b[39;49m\u001b[38;5;28;43;01mFalse\u001b[39;49;00m\u001b[43m,\u001b[49m\n\u001b[1;32m    447\u001b[0m \u001b[43m        \u001b[49m\u001b[43mpreload_content\u001b[49m\u001b[38;5;241;43m=\u001b[39;49m\u001b[38;5;28;43;01mFalse\u001b[39;49;00m\u001b[43m,\u001b[49m\n\u001b[1;32m    448\u001b[0m \u001b[43m        \u001b[49m\u001b[43mdecode_content\u001b[49m\u001b[38;5;241;43m=\u001b[39;49m\u001b[38;5;28;43;01mFalse\u001b[39;49;00m\u001b[43m,\u001b[49m\n\u001b[1;32m    449\u001b[0m \u001b[43m        \u001b[49m\u001b[43mretries\u001b[49m\u001b[38;5;241;43m=\u001b[39;49m\u001b[38;5;28;43mself\u001b[39;49m\u001b[38;5;241;43m.\u001b[39;49m\u001b[43mmax_retries\u001b[49m\u001b[43m,\u001b[49m\n\u001b[1;32m    450\u001b[0m \u001b[43m        \u001b[49m\u001b[43mtimeout\u001b[49m\u001b[38;5;241;43m=\u001b[39;49m\u001b[43mtimeout\u001b[49m\n\u001b[1;32m    451\u001b[0m \u001b[43m    \u001b[49m\u001b[43m)\u001b[49m\n\u001b[1;32m    453\u001b[0m \u001b[38;5;66;03m# Send the request.\u001b[39;00m\n\u001b[1;32m    454\u001b[0m \u001b[38;5;28;01melse\u001b[39;00m:\n",
      "File \u001b[0;32m~/opt/anaconda3/lib/python3.9/site-packages/urllib3/connectionpool.py:813\u001b[0m, in \u001b[0;36mHTTPConnectionPool.urlopen\u001b[0;34m(self, method, url, body, headers, retries, redirect, assert_same_host, timeout, pool_timeout, release_conn, chunked, body_pos, **response_kw)\u001b[0m\n\u001b[1;32m    810\u001b[0m     log\u001b[38;5;241m.\u001b[39mwarning(\n\u001b[1;32m    811\u001b[0m         \u001b[38;5;124m\"\u001b[39m\u001b[38;5;124mRetrying (\u001b[39m\u001b[38;5;132;01m%r\u001b[39;00m\u001b[38;5;124m) after connection broken by \u001b[39m\u001b[38;5;124m'\u001b[39m\u001b[38;5;132;01m%r\u001b[39;00m\u001b[38;5;124m'\u001b[39m\u001b[38;5;124m: \u001b[39m\u001b[38;5;132;01m%s\u001b[39;00m\u001b[38;5;124m\"\u001b[39m, retries, err, url\n\u001b[1;32m    812\u001b[0m     )\n\u001b[0;32m--> 813\u001b[0m     \u001b[38;5;28;01mreturn\u001b[39;00m \u001b[38;5;28;43mself\u001b[39;49m\u001b[38;5;241;43m.\u001b[39;49m\u001b[43murlopen\u001b[49m\u001b[43m(\u001b[49m\n\u001b[1;32m    814\u001b[0m \u001b[43m        \u001b[49m\u001b[43mmethod\u001b[49m\u001b[43m,\u001b[49m\n\u001b[1;32m    815\u001b[0m \u001b[43m        \u001b[49m\u001b[43murl\u001b[49m\u001b[43m,\u001b[49m\n\u001b[1;32m    816\u001b[0m \u001b[43m        \u001b[49m\u001b[43mbody\u001b[49m\u001b[43m,\u001b[49m\n\u001b[1;32m    817\u001b[0m \u001b[43m        \u001b[49m\u001b[43mheaders\u001b[49m\u001b[43m,\u001b[49m\n\u001b[1;32m    818\u001b[0m \u001b[43m        \u001b[49m\u001b[43mretries\u001b[49m\u001b[43m,\u001b[49m\n\u001b[1;32m    819\u001b[0m \u001b[43m        \u001b[49m\u001b[43mredirect\u001b[49m\u001b[43m,\u001b[49m\n\u001b[1;32m    820\u001b[0m \u001b[43m        \u001b[49m\u001b[43massert_same_host\u001b[49m\u001b[43m,\u001b[49m\n\u001b[1;32m    821\u001b[0m \u001b[43m        \u001b[49m\u001b[43mtimeout\u001b[49m\u001b[38;5;241;43m=\u001b[39;49m\u001b[43mtimeout\u001b[49m\u001b[43m,\u001b[49m\n\u001b[1;32m    822\u001b[0m \u001b[43m        \u001b[49m\u001b[43mpool_timeout\u001b[49m\u001b[38;5;241;43m=\u001b[39;49m\u001b[43mpool_timeout\u001b[49m\u001b[43m,\u001b[49m\n\u001b[1;32m    823\u001b[0m \u001b[43m        \u001b[49m\u001b[43mrelease_conn\u001b[49m\u001b[38;5;241;43m=\u001b[39;49m\u001b[43mrelease_conn\u001b[49m\u001b[43m,\u001b[49m\n\u001b[1;32m    824\u001b[0m \u001b[43m        \u001b[49m\u001b[43mchunked\u001b[49m\u001b[38;5;241;43m=\u001b[39;49m\u001b[43mchunked\u001b[49m\u001b[43m,\u001b[49m\n\u001b[1;32m    825\u001b[0m \u001b[43m        \u001b[49m\u001b[43mbody_pos\u001b[49m\u001b[38;5;241;43m=\u001b[39;49m\u001b[43mbody_pos\u001b[49m\u001b[43m,\u001b[49m\n\u001b[1;32m    826\u001b[0m \u001b[43m        \u001b[49m\u001b[38;5;241;43m*\u001b[39;49m\u001b[38;5;241;43m*\u001b[39;49m\u001b[43mresponse_kw\u001b[49m\n\u001b[1;32m    827\u001b[0m \u001b[43m    \u001b[49m\u001b[43m)\u001b[49m\n\u001b[1;32m    829\u001b[0m \u001b[38;5;66;03m# Handle redirect?\u001b[39;00m\n",
      "File \u001b[0;32m~/opt/anaconda3/lib/python3.9/site-packages/urllib3/connectionpool.py:813\u001b[0m, in \u001b[0;36mHTTPConnectionPool.urlopen\u001b[0;34m(self, method, url, body, headers, retries, redirect, assert_same_host, timeout, pool_timeout, release_conn, chunked, body_pos, **response_kw)\u001b[0m\n\u001b[1;32m    810\u001b[0m     log\u001b[38;5;241m.\u001b[39mwarning(\n\u001b[1;32m    811\u001b[0m         \u001b[38;5;124m\"\u001b[39m\u001b[38;5;124mRetrying (\u001b[39m\u001b[38;5;132;01m%r\u001b[39;00m\u001b[38;5;124m) after connection broken by \u001b[39m\u001b[38;5;124m'\u001b[39m\u001b[38;5;132;01m%r\u001b[39;00m\u001b[38;5;124m'\u001b[39m\u001b[38;5;124m: \u001b[39m\u001b[38;5;132;01m%s\u001b[39;00m\u001b[38;5;124m\"\u001b[39m, retries, err, url\n\u001b[1;32m    812\u001b[0m     )\n\u001b[0;32m--> 813\u001b[0m     \u001b[38;5;28;01mreturn\u001b[39;00m \u001b[38;5;28;43mself\u001b[39;49m\u001b[38;5;241;43m.\u001b[39;49m\u001b[43murlopen\u001b[49m\u001b[43m(\u001b[49m\n\u001b[1;32m    814\u001b[0m \u001b[43m        \u001b[49m\u001b[43mmethod\u001b[49m\u001b[43m,\u001b[49m\n\u001b[1;32m    815\u001b[0m \u001b[43m        \u001b[49m\u001b[43murl\u001b[49m\u001b[43m,\u001b[49m\n\u001b[1;32m    816\u001b[0m \u001b[43m        \u001b[49m\u001b[43mbody\u001b[49m\u001b[43m,\u001b[49m\n\u001b[1;32m    817\u001b[0m \u001b[43m        \u001b[49m\u001b[43mheaders\u001b[49m\u001b[43m,\u001b[49m\n\u001b[1;32m    818\u001b[0m \u001b[43m        \u001b[49m\u001b[43mretries\u001b[49m\u001b[43m,\u001b[49m\n\u001b[1;32m    819\u001b[0m \u001b[43m        \u001b[49m\u001b[43mredirect\u001b[49m\u001b[43m,\u001b[49m\n\u001b[1;32m    820\u001b[0m \u001b[43m        \u001b[49m\u001b[43massert_same_host\u001b[49m\u001b[43m,\u001b[49m\n\u001b[1;32m    821\u001b[0m \u001b[43m        \u001b[49m\u001b[43mtimeout\u001b[49m\u001b[38;5;241;43m=\u001b[39;49m\u001b[43mtimeout\u001b[49m\u001b[43m,\u001b[49m\n\u001b[1;32m    822\u001b[0m \u001b[43m        \u001b[49m\u001b[43mpool_timeout\u001b[49m\u001b[38;5;241;43m=\u001b[39;49m\u001b[43mpool_timeout\u001b[49m\u001b[43m,\u001b[49m\n\u001b[1;32m    823\u001b[0m \u001b[43m        \u001b[49m\u001b[43mrelease_conn\u001b[49m\u001b[38;5;241;43m=\u001b[39;49m\u001b[43mrelease_conn\u001b[49m\u001b[43m,\u001b[49m\n\u001b[1;32m    824\u001b[0m \u001b[43m        \u001b[49m\u001b[43mchunked\u001b[49m\u001b[38;5;241;43m=\u001b[39;49m\u001b[43mchunked\u001b[49m\u001b[43m,\u001b[49m\n\u001b[1;32m    825\u001b[0m \u001b[43m        \u001b[49m\u001b[43mbody_pos\u001b[49m\u001b[38;5;241;43m=\u001b[39;49m\u001b[43mbody_pos\u001b[49m\u001b[43m,\u001b[49m\n\u001b[1;32m    826\u001b[0m \u001b[43m        \u001b[49m\u001b[38;5;241;43m*\u001b[39;49m\u001b[38;5;241;43m*\u001b[39;49m\u001b[43mresponse_kw\u001b[49m\n\u001b[1;32m    827\u001b[0m \u001b[43m    \u001b[49m\u001b[43m)\u001b[49m\n\u001b[1;32m    829\u001b[0m \u001b[38;5;66;03m# Handle redirect?\u001b[39;00m\n",
      "File \u001b[0;32m~/opt/anaconda3/lib/python3.9/site-packages/urllib3/connectionpool.py:785\u001b[0m, in \u001b[0;36mHTTPConnectionPool.urlopen\u001b[0;34m(self, method, url, body, headers, retries, redirect, assert_same_host, timeout, pool_timeout, release_conn, chunked, body_pos, **response_kw)\u001b[0m\n\u001b[1;32m    783\u001b[0m     e \u001b[38;5;241m=\u001b[39m ProtocolError(\u001b[38;5;124m\"\u001b[39m\u001b[38;5;124mConnection aborted.\u001b[39m\u001b[38;5;124m\"\u001b[39m, e)\n\u001b[0;32m--> 785\u001b[0m retries \u001b[38;5;241m=\u001b[39m \u001b[43mretries\u001b[49m\u001b[38;5;241;43m.\u001b[39;49m\u001b[43mincrement\u001b[49m\u001b[43m(\u001b[49m\n\u001b[1;32m    786\u001b[0m \u001b[43m    \u001b[49m\u001b[43mmethod\u001b[49m\u001b[43m,\u001b[49m\u001b[43m \u001b[49m\u001b[43murl\u001b[49m\u001b[43m,\u001b[49m\u001b[43m \u001b[49m\u001b[43merror\u001b[49m\u001b[38;5;241;43m=\u001b[39;49m\u001b[43me\u001b[49m\u001b[43m,\u001b[49m\u001b[43m \u001b[49m\u001b[43m_pool\u001b[49m\u001b[38;5;241;43m=\u001b[39;49m\u001b[38;5;28;43mself\u001b[39;49m\u001b[43m,\u001b[49m\u001b[43m \u001b[49m\u001b[43m_stacktrace\u001b[49m\u001b[38;5;241;43m=\u001b[39;49m\u001b[43msys\u001b[49m\u001b[38;5;241;43m.\u001b[39;49m\u001b[43mexc_info\u001b[49m\u001b[43m(\u001b[49m\u001b[43m)\u001b[49m\u001b[43m[\u001b[49m\u001b[38;5;241;43m2\u001b[39;49m\u001b[43m]\u001b[49m\n\u001b[1;32m    787\u001b[0m \u001b[43m\u001b[49m\u001b[43m)\u001b[49m\n\u001b[1;32m    788\u001b[0m retries\u001b[38;5;241m.\u001b[39msleep()\n",
      "File \u001b[0;32m~/opt/anaconda3/lib/python3.9/site-packages/urllib3/util/retry.py:592\u001b[0m, in \u001b[0;36mRetry.increment\u001b[0;34m(self, method, url, response, error, _pool, _stacktrace)\u001b[0m\n\u001b[1;32m    591\u001b[0m \u001b[38;5;28;01mif\u001b[39;00m new_retry\u001b[38;5;241m.\u001b[39mis_exhausted():\n\u001b[0;32m--> 592\u001b[0m     \u001b[38;5;28;01mraise\u001b[39;00m MaxRetryError(_pool, url, error \u001b[38;5;129;01mor\u001b[39;00m ResponseError(cause))\n\u001b[1;32m    594\u001b[0m log\u001b[38;5;241m.\u001b[39mdebug(\u001b[38;5;124m\"\u001b[39m\u001b[38;5;124mIncremented Retry for (url=\u001b[39m\u001b[38;5;124m'\u001b[39m\u001b[38;5;132;01m%s\u001b[39;00m\u001b[38;5;124m'\u001b[39m\u001b[38;5;124m): \u001b[39m\u001b[38;5;132;01m%r\u001b[39;00m\u001b[38;5;124m\"\u001b[39m, url, new_retry)\n",
      "\u001b[0;31mMaxRetryError\u001b[0m: HTTPSConnectionPool(host='nominatim.openstreetmap.org', port=443): Max retries exceeded with url: /search?q=Lazaro+Cardenas%2C+Mexico&format=json&limit=1 (Caused by ReadTimeoutError(\"HTTPSConnectionPool(host='nominatim.openstreetmap.org', port=443): Read timed out. (read timeout=1)\"))",
      "\nDuring handling of the above exception, another exception occurred:\n",
      "\u001b[0;31mConnectionError\u001b[0m                           Traceback (most recent call last)",
      "File \u001b[0;32m~/opt/anaconda3/lib/python3.9/site-packages/geopy/adapters.py:482\u001b[0m, in \u001b[0;36mRequestsAdapter._request\u001b[0;34m(self, url, timeout, headers)\u001b[0m\n\u001b[1;32m    481\u001b[0m \u001b[38;5;28;01mtry\u001b[39;00m:\n\u001b[0;32m--> 482\u001b[0m     resp \u001b[38;5;241m=\u001b[39m \u001b[38;5;28;43mself\u001b[39;49m\u001b[38;5;241;43m.\u001b[39;49m\u001b[43msession\u001b[49m\u001b[38;5;241;43m.\u001b[39;49m\u001b[43mget\u001b[49m\u001b[43m(\u001b[49m\u001b[43murl\u001b[49m\u001b[43m,\u001b[49m\u001b[43m \u001b[49m\u001b[43mtimeout\u001b[49m\u001b[38;5;241;43m=\u001b[39;49m\u001b[43mtimeout\u001b[49m\u001b[43m,\u001b[49m\u001b[43m \u001b[49m\u001b[43mheaders\u001b[49m\u001b[38;5;241;43m=\u001b[39;49m\u001b[43mheaders\u001b[49m\u001b[43m)\u001b[49m\n\u001b[1;32m    483\u001b[0m \u001b[38;5;28;01mexcept\u001b[39;00m \u001b[38;5;167;01mException\u001b[39;00m \u001b[38;5;28;01mas\u001b[39;00m error:\n",
      "File \u001b[0;32m~/opt/anaconda3/lib/python3.9/site-packages/requests/sessions.py:542\u001b[0m, in \u001b[0;36mSession.get\u001b[0;34m(self, url, **kwargs)\u001b[0m\n\u001b[1;32m    541\u001b[0m kwargs\u001b[38;5;241m.\u001b[39msetdefault(\u001b[38;5;124m'\u001b[39m\u001b[38;5;124mallow_redirects\u001b[39m\u001b[38;5;124m'\u001b[39m, \u001b[38;5;28;01mTrue\u001b[39;00m)\n\u001b[0;32m--> 542\u001b[0m \u001b[38;5;28;01mreturn\u001b[39;00m \u001b[38;5;28;43mself\u001b[39;49m\u001b[38;5;241;43m.\u001b[39;49m\u001b[43mrequest\u001b[49m\u001b[43m(\u001b[49m\u001b[38;5;124;43m'\u001b[39;49m\u001b[38;5;124;43mGET\u001b[39;49m\u001b[38;5;124;43m'\u001b[39;49m\u001b[43m,\u001b[49m\u001b[43m \u001b[49m\u001b[43murl\u001b[49m\u001b[43m,\u001b[49m\u001b[43m \u001b[49m\u001b[38;5;241;43m*\u001b[39;49m\u001b[38;5;241;43m*\u001b[39;49m\u001b[43mkwargs\u001b[49m\u001b[43m)\u001b[49m\n",
      "File \u001b[0;32m~/opt/anaconda3/lib/python3.9/site-packages/requests/sessions.py:529\u001b[0m, in \u001b[0;36mSession.request\u001b[0;34m(self, method, url, params, data, headers, cookies, files, auth, timeout, allow_redirects, proxies, hooks, stream, verify, cert, json)\u001b[0m\n\u001b[1;32m    528\u001b[0m send_kwargs\u001b[38;5;241m.\u001b[39mupdate(settings)\n\u001b[0;32m--> 529\u001b[0m resp \u001b[38;5;241m=\u001b[39m \u001b[38;5;28;43mself\u001b[39;49m\u001b[38;5;241;43m.\u001b[39;49m\u001b[43msend\u001b[49m\u001b[43m(\u001b[49m\u001b[43mprep\u001b[49m\u001b[43m,\u001b[49m\u001b[43m \u001b[49m\u001b[38;5;241;43m*\u001b[39;49m\u001b[38;5;241;43m*\u001b[39;49m\u001b[43msend_kwargs\u001b[49m\u001b[43m)\u001b[49m\n\u001b[1;32m    531\u001b[0m \u001b[38;5;28;01mreturn\u001b[39;00m resp\n",
      "File \u001b[0;32m~/opt/anaconda3/lib/python3.9/site-packages/requests/sessions.py:645\u001b[0m, in \u001b[0;36mSession.send\u001b[0;34m(self, request, **kwargs)\u001b[0m\n\u001b[1;32m    644\u001b[0m \u001b[38;5;66;03m# Send the request\u001b[39;00m\n\u001b[0;32m--> 645\u001b[0m r \u001b[38;5;241m=\u001b[39m \u001b[43madapter\u001b[49m\u001b[38;5;241;43m.\u001b[39;49m\u001b[43msend\u001b[49m\u001b[43m(\u001b[49m\u001b[43mrequest\u001b[49m\u001b[43m,\u001b[49m\u001b[43m \u001b[49m\u001b[38;5;241;43m*\u001b[39;49m\u001b[38;5;241;43m*\u001b[39;49m\u001b[43mkwargs\u001b[49m\u001b[43m)\u001b[49m\n\u001b[1;32m    647\u001b[0m \u001b[38;5;66;03m# Total elapsed time of the request (approximately)\u001b[39;00m\n",
      "File \u001b[0;32m~/opt/anaconda3/lib/python3.9/site-packages/requests/adapters.py:519\u001b[0m, in \u001b[0;36mHTTPAdapter.send\u001b[0;34m(self, request, stream, timeout, verify, cert, proxies)\u001b[0m\n\u001b[1;32m    517\u001b[0m         \u001b[38;5;28;01mraise\u001b[39;00m SSLError(e, request\u001b[38;5;241m=\u001b[39mrequest)\n\u001b[0;32m--> 519\u001b[0m     \u001b[38;5;28;01mraise\u001b[39;00m \u001b[38;5;167;01mConnectionError\u001b[39;00m(e, request\u001b[38;5;241m=\u001b[39mrequest)\n\u001b[1;32m    521\u001b[0m \u001b[38;5;28;01mexcept\u001b[39;00m ClosedPoolError \u001b[38;5;28;01mas\u001b[39;00m e:\n",
      "\u001b[0;31mConnectionError\u001b[0m: HTTPSConnectionPool(host='nominatim.openstreetmap.org', port=443): Max retries exceeded with url: /search?q=Lazaro+Cardenas%2C+Mexico&format=json&limit=1 (Caused by ReadTimeoutError(\"HTTPSConnectionPool(host='nominatim.openstreetmap.org', port=443): Read timed out. (read timeout=1)\"))",
      "\nDuring handling of the above exception, another exception occurred:\n",
      "\u001b[0;31mGeocoderUnavailable\u001b[0m                       Traceback (most recent call last)",
      "Input \u001b[0;32mIn [36]\u001b[0m, in \u001b[0;36m<cell line: 2>\u001b[0;34m()\u001b[0m\n\u001b[1;32m      1\u001b[0m input_list  \u001b[38;5;241m=\u001b[39m list_cut_ports\n\u001b[0;32m----> 2\u001b[0m output_list \u001b[38;5;241m=\u001b[39m [convert(i) \u001b[38;5;28;01mfor\u001b[39;00m i \u001b[38;5;129;01min\u001b[39;00m input_list]\n",
      "Input \u001b[0;32mIn [36]\u001b[0m, in \u001b[0;36m<listcomp>\u001b[0;34m(.0)\u001b[0m\n\u001b[1;32m      1\u001b[0m input_list  \u001b[38;5;241m=\u001b[39m list_cut_ports\n\u001b[0;32m----> 2\u001b[0m output_list \u001b[38;5;241m=\u001b[39m [\u001b[43mconvert\u001b[49m\u001b[43m(\u001b[49m\u001b[43mi\u001b[49m\u001b[43m)\u001b[49m \u001b[38;5;28;01mfor\u001b[39;00m i \u001b[38;5;129;01min\u001b[39;00m input_list]\n",
      "Input \u001b[0;32mIn [35]\u001b[0m, in \u001b[0;36mconvert\u001b[0;34m(name_port)\u001b[0m\n\u001b[1;32m      3\u001b[0m \u001b[38;5;28;01mdef\u001b[39;00m \u001b[38;5;21mconvert\u001b[39m(name_port):\n\u001b[0;32m----> 5\u001b[0m     location \u001b[38;5;241m=\u001b[39m \u001b[43mgeolocator\u001b[49m\u001b[38;5;241;43m.\u001b[39;49m\u001b[43mgeocode\u001b[49m\u001b[43m(\u001b[49m\u001b[43mname_port\u001b[49m\u001b[43m)\u001b[49m\n\u001b[1;32m      7\u001b[0m     \u001b[38;5;28;01mif\u001b[39;00m location \u001b[38;5;241m==\u001b[39m \u001b[38;5;28;01mNone\u001b[39;00m:\n\u001b[1;32m      9\u001b[0m         address \u001b[38;5;241m=\u001b[39m \u001b[38;5;124m'\u001b[39m\u001b[38;5;124mNo location data available.\u001b[39m\u001b[38;5;124m'\u001b[39m          \u001b[38;5;66;03m#add in \"for name_port\" filler\u001b[39;00m\n",
      "File \u001b[0;32m~/opt/anaconda3/lib/python3.9/site-packages/geopy/geocoders/nominatim.py:297\u001b[0m, in \u001b[0;36mNominatim.geocode\u001b[0;34m(self, query, exactly_one, timeout, limit, addressdetails, language, geometry, extratags, country_codes, viewbox, bounded, featuretype, namedetails)\u001b[0m\n\u001b[1;32m    295\u001b[0m logger\u001b[38;5;241m.\u001b[39mdebug(\u001b[38;5;124m\"\u001b[39m\u001b[38;5;132;01m%s\u001b[39;00m\u001b[38;5;124m.geocode: \u001b[39m\u001b[38;5;132;01m%s\u001b[39;00m\u001b[38;5;124m\"\u001b[39m, \u001b[38;5;28mself\u001b[39m\u001b[38;5;241m.\u001b[39m\u001b[38;5;18m__class__\u001b[39m\u001b[38;5;241m.\u001b[39m\u001b[38;5;18m__name__\u001b[39m, url)\n\u001b[1;32m    296\u001b[0m callback \u001b[38;5;241m=\u001b[39m partial(\u001b[38;5;28mself\u001b[39m\u001b[38;5;241m.\u001b[39m_parse_json, exactly_one\u001b[38;5;241m=\u001b[39mexactly_one)\n\u001b[0;32m--> 297\u001b[0m \u001b[38;5;28;01mreturn\u001b[39;00m \u001b[38;5;28;43mself\u001b[39;49m\u001b[38;5;241;43m.\u001b[39;49m\u001b[43m_call_geocoder\u001b[49m\u001b[43m(\u001b[49m\u001b[43murl\u001b[49m\u001b[43m,\u001b[49m\u001b[43m \u001b[49m\u001b[43mcallback\u001b[49m\u001b[43m,\u001b[49m\u001b[43m \u001b[49m\u001b[43mtimeout\u001b[49m\u001b[38;5;241;43m=\u001b[39;49m\u001b[43mtimeout\u001b[49m\u001b[43m)\u001b[49m\n",
      "File \u001b[0;32m~/opt/anaconda3/lib/python3.9/site-packages/geopy/geocoders/base.py:368\u001b[0m, in \u001b[0;36mGeocoder._call_geocoder\u001b[0;34m(self, url, callback, timeout, is_json, headers)\u001b[0m\n\u001b[1;32m    366\u001b[0m \u001b[38;5;28;01mtry\u001b[39;00m:\n\u001b[1;32m    367\u001b[0m     \u001b[38;5;28;01mif\u001b[39;00m is_json:\n\u001b[0;32m--> 368\u001b[0m         result \u001b[38;5;241m=\u001b[39m \u001b[38;5;28;43mself\u001b[39;49m\u001b[38;5;241;43m.\u001b[39;49m\u001b[43madapter\u001b[49m\u001b[38;5;241;43m.\u001b[39;49m\u001b[43mget_json\u001b[49m\u001b[43m(\u001b[49m\u001b[43murl\u001b[49m\u001b[43m,\u001b[49m\u001b[43m \u001b[49m\u001b[43mtimeout\u001b[49m\u001b[38;5;241;43m=\u001b[39;49m\u001b[43mtimeout\u001b[49m\u001b[43m,\u001b[49m\u001b[43m \u001b[49m\u001b[43mheaders\u001b[49m\u001b[38;5;241;43m=\u001b[39;49m\u001b[43mreq_headers\u001b[49m\u001b[43m)\u001b[49m\n\u001b[1;32m    369\u001b[0m     \u001b[38;5;28;01melse\u001b[39;00m:\n\u001b[1;32m    370\u001b[0m         result \u001b[38;5;241m=\u001b[39m \u001b[38;5;28mself\u001b[39m\u001b[38;5;241m.\u001b[39madapter\u001b[38;5;241m.\u001b[39mget_text(url, timeout\u001b[38;5;241m=\u001b[39mtimeout, headers\u001b[38;5;241m=\u001b[39mreq_headers)\n",
      "File \u001b[0;32m~/opt/anaconda3/lib/python3.9/site-packages/geopy/adapters.py:472\u001b[0m, in \u001b[0;36mRequestsAdapter.get_json\u001b[0;34m(self, url, timeout, headers)\u001b[0m\n\u001b[1;32m    471\u001b[0m \u001b[38;5;28;01mdef\u001b[39;00m \u001b[38;5;21mget_json\u001b[39m(\u001b[38;5;28mself\u001b[39m, url, \u001b[38;5;241m*\u001b[39m, timeout, headers):\n\u001b[0;32m--> 472\u001b[0m     resp \u001b[38;5;241m=\u001b[39m \u001b[38;5;28;43mself\u001b[39;49m\u001b[38;5;241;43m.\u001b[39;49m\u001b[43m_request\u001b[49m\u001b[43m(\u001b[49m\u001b[43murl\u001b[49m\u001b[43m,\u001b[49m\u001b[43m \u001b[49m\u001b[43mtimeout\u001b[49m\u001b[38;5;241;43m=\u001b[39;49m\u001b[43mtimeout\u001b[49m\u001b[43m,\u001b[49m\u001b[43m \u001b[49m\u001b[43mheaders\u001b[49m\u001b[38;5;241;43m=\u001b[39;49m\u001b[43mheaders\u001b[49m\u001b[43m)\u001b[49m\n\u001b[1;32m    473\u001b[0m     \u001b[38;5;28;01mtry\u001b[39;00m:\n\u001b[1;32m    474\u001b[0m         \u001b[38;5;28;01mreturn\u001b[39;00m resp\u001b[38;5;241m.\u001b[39mjson()\n",
      "File \u001b[0;32m~/opt/anaconda3/lib/python3.9/site-packages/geopy/adapters.py:494\u001b[0m, in \u001b[0;36mRequestsAdapter._request\u001b[0;34m(self, url, timeout, headers)\u001b[0m\n\u001b[1;32m    492\u001b[0m         \u001b[38;5;28;01mraise\u001b[39;00m GeocoderServiceError(message)\n\u001b[1;32m    493\u001b[0m     \u001b[38;5;28;01melse\u001b[39;00m:\n\u001b[0;32m--> 494\u001b[0m         \u001b[38;5;28;01mraise\u001b[39;00m GeocoderUnavailable(message)\n\u001b[1;32m    495\u001b[0m \u001b[38;5;28;01melif\u001b[39;00m \u001b[38;5;28misinstance\u001b[39m(error, requests\u001b[38;5;241m.\u001b[39mTimeout):\n\u001b[1;32m    496\u001b[0m     \u001b[38;5;28;01mraise\u001b[39;00m GeocoderTimedOut(\u001b[38;5;124m\"\u001b[39m\u001b[38;5;124mService timed out\u001b[39m\u001b[38;5;124m\"\u001b[39m)\n",
      "\u001b[0;31mGeocoderUnavailable\u001b[0m: HTTPSConnectionPool(host='nominatim.openstreetmap.org', port=443): Max retries exceeded with url: /search?q=Lazaro+Cardenas%2C+Mexico&format=json&limit=1 (Caused by ReadTimeoutError(\"HTTPSConnectionPool(host='nominatim.openstreetmap.org', port=443): Read timed out. (read timeout=1)\"))"
     ]
    }
   ],
   "source": [
    "input_list  = list_cut_ports\n",
    "output_list = [convert(i) for i in input_list]"
   ]
  },
  {
   "cell_type": "code",
   "execution_count": 47,
   "id": "609affc4",
   "metadata": {},
   "outputs": [],
   "source": [
    "#geocoder was unable to complete request because I maxxed out my requests for the day"
   ]
  },
  {
   "cell_type": "code",
   "execution_count": null,
   "id": "773c8da3",
   "metadata": {},
   "outputs": [],
   "source": []
  }
 ],
 "metadata": {
  "kernelspec": {
   "display_name": "Python 3 (ipykernel)",
   "language": "python",
   "name": "python3"
  },
  "language_info": {
   "codemirror_mode": {
    "name": "ipython",
    "version": 3
   },
   "file_extension": ".py",
   "mimetype": "text/x-python",
   "name": "python",
   "nbconvert_exporter": "python",
   "pygments_lexer": "ipython3",
   "version": "3.9.12"
  }
 },
 "nbformat": 4,
 "nbformat_minor": 5
}
