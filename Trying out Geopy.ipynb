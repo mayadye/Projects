{
 "cells": [
  {
   "cell_type": "markdown",
   "id": "1031bb20",
   "metadata": {},
   "source": [
    "***This is a working document and does not reflect a final product***"
   ]
  },
  {
   "cell_type": "markdown",
   "id": "ba1a7408",
   "metadata": {},
   "source": [
    "# Converting City or Address to Lat & Long using Geopy"
   ]
  },
  {
   "cell_type": "markdown",
   "id": "e47c914c",
   "metadata": {},
   "source": [
    "### Importing geopy and testing how it works"
   ]
  },
  {
   "cell_type": "code",
   "execution_count": 1,
   "id": "a0330d13",
   "metadata": {},
   "outputs": [],
   "source": [
    "from geopy.geocoders import Nominatim"
   ]
  },
  {
   "cell_type": "code",
   "execution_count": 2,
   "id": "ad4d2e9d",
   "metadata": {},
   "outputs": [],
   "source": [
    "geolocator = Nominatim(user_agent=\"jupyter\")            #jupyter is the app name \n",
    "location = geolocator.geocode(\"175 5th Avenue NYC\")"
   ]
  },
  {
   "cell_type": "code",
   "execution_count": 3,
   "id": "1451062c",
   "metadata": {},
   "outputs": [
    {
     "name": "stdout",
     "output_type": "stream",
     "text": [
      "Flatiron Building, 175, 5th Avenue, Flatiron District, Manhattan Community Board 5, Manhattan, New York County, City of New York, New York, 10010, United States\n"
     ]
    }
   ],
   "source": [
    "print(location)"
   ]
  },
  {
   "cell_type": "code",
   "execution_count": 4,
   "id": "0706ef01",
   "metadata": {},
   "outputs": [
    {
     "name": "stdout",
     "output_type": "stream",
     "text": [
      "Flatiron Building, 175, 5th Avenue, Flatiron District, Manhattan Community Board 5, Manhattan, New York County, City of New York, New York, 10010, United States\n"
     ]
    }
   ],
   "source": [
    "print(location.address)"
   ]
  },
  {
   "cell_type": "code",
   "execution_count": 5,
   "id": "16a1991f",
   "metadata": {},
   "outputs": [
    {
     "name": "stdout",
     "output_type": "stream",
     "text": [
      "(40.741059199999995, -73.98964162240998)\n"
     ]
    }
   ],
   "source": [
    "print((location.latitude, location.longitude))"
   ]
  },
  {
   "cell_type": "code",
   "execution_count": 6,
   "id": "6689f135",
   "metadata": {},
   "outputs": [
    {
     "name": "stdout",
     "output_type": "stream",
     "text": [
      "{'place_id': 15433288, 'licence': 'Data © OpenStreetMap contributors, ODbL 1.0. http://osm.org/copyright', 'osm_type': 'way', 'osm_id': 264768896, 'lat': '40.741059199999995', 'lon': '-73.98964162240998', 'class': 'tourism', 'type': 'attraction', 'place_rank': 30, 'importance': 0.4305988542685404, 'addresstype': 'tourism', 'name': 'Flatiron Building', 'display_name': 'Flatiron Building, 175, 5th Avenue, Flatiron District, Manhattan Community Board 5, Manhattan, New York County, City of New York, New York, 10010, United States', 'boundingbox': ['40.7407596', '40.7413004', '-73.9898715', '-73.9895014']}\n"
     ]
    }
   ],
   "source": [
    "print(location.raw)"
   ]
  },
  {
   "cell_type": "code",
   "execution_count": 7,
   "id": "669a84a0",
   "metadata": {},
   "outputs": [
    {
     "name": "stdout",
     "output_type": "stream",
     "text": [
      "11, Potsdamer Platz, Tiergarten, Mitte, Berlin, 10785, Deutschland\n"
     ]
    }
   ],
   "source": [
    "location = geolocator.reverse(\"52.509669, 13.376294\")\n",
    "print(location.address)"
   ]
  },
  {
   "cell_type": "markdown",
   "id": "836792c3",
   "metadata": {},
   "source": [
    "### Import data and convert using geopy "
   ]
  },
  {
   "cell_type": "code",
   "execution_count": 8,
   "id": "3b9decf2",
   "metadata": {},
   "outputs": [
    {
     "name": "stdout",
     "output_type": "stream",
     "text": [
      "                 Dates  Year  Unnamed: 2          Stops / Ports Unnamed: 4  \\\n",
      "0                  NaN   NaN         NaN                    NaN        NaN   \n",
      "1         03-07 Feb 77  77.0         NaN  Acajutla, El Salvador        NaN   \n",
      "2                  NaN   NaN         NaN       Acapulco, Mexico          1   \n",
      "3     24 Feb-05 Mar 38  38.0         NaN       Acapulco, Mexico          2   \n",
      "4     29 Feb-02 Mar 40  40.0         NaN       Acapulco, Mexico          3   \n",
      "...                ...   ...         ...                    ...        ...   \n",
      "1007               NaN   NaN         NaN                    NaN        NaN   \n",
      "1008               NaN   NaN         NaN                    NaN        NaN   \n",
      "1009               NaN   NaN         NaN                    NaN        NaN   \n",
      "1010               NaN   NaN         NaN                    NaN        NaN   \n",
      "1011               NaN   NaN         NaN                    NaN        NaN   \n",
      "\n",
      "              comments  Cruise #  Unnamed: 7  Unnamed: 8  Unnamed: 9  \\\n",
      "0                  NaN       NaN         NaN         NaN         NaN   \n",
      "1                  NaN      64.0         NaN         NaN         NaN   \n",
      "2                  NaN       6.0         NaN         NaN         NaN   \n",
      "3      and Mexico City       8.0         NaN         NaN         NaN   \n",
      "4                  NaN      12.0         NaN         NaN         NaN   \n",
      "...                ...       ...         ...         ...         ...   \n",
      "1007               NaN       NaN         NaN         NaN         NaN   \n",
      "1008               NaN       NaN         NaN         NaN         NaN   \n",
      "1009               NaN       NaN         NaN         NaN         NaN   \n",
      "1010               NaN       NaN         NaN         NaN         NaN   \n",
      "1011               NaN       NaN         NaN         NaN         NaN   \n",
      "\n",
      "      Unnamed: 10  \n",
      "0             NaN  \n",
      "1             NaN  \n",
      "2             NaN  \n",
      "3             NaN  \n",
      "4             NaN  \n",
      "...           ...  \n",
      "1007          NaN  \n",
      "1008          NaN  \n",
      "1009          NaN  \n",
      "1010          NaN  \n",
      "1011          NaN  \n",
      "\n",
      "[1012 rows x 11 columns]\n"
     ]
    }
   ],
   "source": [
    "import pandas as pd\n",
    "df = pd.read_csv(\"/Users/mayadye/Documents/Freeman Project- Cruises/Cruise Ports Sheet .csv\", skiprows=3)  #data import\n",
    "print(df)"
   ]
  },
  {
   "cell_type": "code",
   "execution_count": 9,
   "id": "bb7b38d6",
   "metadata": {},
   "outputs": [
    {
     "data": {
      "text/html": [
       "<div>\n",
       "<style scoped>\n",
       "    .dataframe tbody tr th:only-of-type {\n",
       "        vertical-align: middle;\n",
       "    }\n",
       "\n",
       "    .dataframe tbody tr th {\n",
       "        vertical-align: top;\n",
       "    }\n",
       "\n",
       "    .dataframe thead th {\n",
       "        text-align: right;\n",
       "    }\n",
       "</style>\n",
       "<table border=\"1\" class=\"dataframe\">\n",
       "  <thead>\n",
       "    <tr style=\"text-align: right;\">\n",
       "      <th></th>\n",
       "      <th>Dates</th>\n",
       "      <th>Year</th>\n",
       "      <th>Unnamed: 2</th>\n",
       "      <th>Stops / Ports</th>\n",
       "      <th>Unnamed: 4</th>\n",
       "      <th>comments</th>\n",
       "      <th>Cruise #</th>\n",
       "      <th>Unnamed: 7</th>\n",
       "      <th>Unnamed: 8</th>\n",
       "      <th>Unnamed: 9</th>\n",
       "      <th>Unnamed: 10</th>\n",
       "    </tr>\n",
       "  </thead>\n",
       "  <tbody>\n",
       "    <tr>\n",
       "      <th>0</th>\n",
       "      <td>NaN</td>\n",
       "      <td>NaN</td>\n",
       "      <td>NaN</td>\n",
       "      <td>NaN</td>\n",
       "      <td>NaN</td>\n",
       "      <td>NaN</td>\n",
       "      <td>NaN</td>\n",
       "      <td>NaN</td>\n",
       "      <td>NaN</td>\n",
       "      <td>NaN</td>\n",
       "      <td>NaN</td>\n",
       "    </tr>\n",
       "    <tr>\n",
       "      <th>1</th>\n",
       "      <td>03-07 Feb 77</td>\n",
       "      <td>77.0</td>\n",
       "      <td>NaN</td>\n",
       "      <td>Acajutla, El Salvador</td>\n",
       "      <td>NaN</td>\n",
       "      <td>NaN</td>\n",
       "      <td>64.0</td>\n",
       "      <td>NaN</td>\n",
       "      <td>NaN</td>\n",
       "      <td>NaN</td>\n",
       "      <td>NaN</td>\n",
       "    </tr>\n",
       "    <tr>\n",
       "      <th>2</th>\n",
       "      <td>NaN</td>\n",
       "      <td>NaN</td>\n",
       "      <td>NaN</td>\n",
       "      <td>Acapulco, Mexico</td>\n",
       "      <td>1</td>\n",
       "      <td>NaN</td>\n",
       "      <td>6.0</td>\n",
       "      <td>NaN</td>\n",
       "      <td>NaN</td>\n",
       "      <td>NaN</td>\n",
       "      <td>NaN</td>\n",
       "    </tr>\n",
       "    <tr>\n",
       "      <th>3</th>\n",
       "      <td>24 Feb-05 Mar 38</td>\n",
       "      <td>38.0</td>\n",
       "      <td>NaN</td>\n",
       "      <td>Acapulco, Mexico</td>\n",
       "      <td>2</td>\n",
       "      <td>and Mexico City</td>\n",
       "      <td>8.0</td>\n",
       "      <td>NaN</td>\n",
       "      <td>NaN</td>\n",
       "      <td>NaN</td>\n",
       "      <td>NaN</td>\n",
       "    </tr>\n",
       "    <tr>\n",
       "      <th>4</th>\n",
       "      <td>29 Feb-02 Mar 40</td>\n",
       "      <td>40.0</td>\n",
       "      <td>NaN</td>\n",
       "      <td>Acapulco, Mexico</td>\n",
       "      <td>3</td>\n",
       "      <td>NaN</td>\n",
       "      <td>12.0</td>\n",
       "      <td>NaN</td>\n",
       "      <td>NaN</td>\n",
       "      <td>NaN</td>\n",
       "      <td>NaN</td>\n",
       "    </tr>\n",
       "  </tbody>\n",
       "</table>\n",
       "</div>"
      ],
      "text/plain": [
       "              Dates  Year  Unnamed: 2          Stops / Ports Unnamed: 4  \\\n",
       "0               NaN   NaN         NaN                    NaN        NaN   \n",
       "1      03-07 Feb 77  77.0         NaN  Acajutla, El Salvador        NaN   \n",
       "2               NaN   NaN         NaN       Acapulco, Mexico          1   \n",
       "3  24 Feb-05 Mar 38  38.0         NaN       Acapulco, Mexico          2   \n",
       "4  29 Feb-02 Mar 40  40.0         NaN       Acapulco, Mexico          3   \n",
       "\n",
       "           comments  Cruise #  Unnamed: 7  Unnamed: 8  Unnamed: 9  Unnamed: 10  \n",
       "0               NaN       NaN         NaN         NaN         NaN          NaN  \n",
       "1               NaN      64.0         NaN         NaN         NaN          NaN  \n",
       "2               NaN       6.0         NaN         NaN         NaN          NaN  \n",
       "3   and Mexico City       8.0         NaN         NaN         NaN          NaN  \n",
       "4               NaN      12.0         NaN         NaN         NaN          NaN  "
      ]
     },
     "execution_count": 9,
     "metadata": {},
     "output_type": "execute_result"
    }
   ],
   "source": [
    "df.head()"
   ]
  },
  {
   "cell_type": "code",
   "execution_count": 10,
   "id": "f07f4a1a",
   "metadata": {},
   "outputs": [
    {
     "name": "stdout",
     "output_type": "stream",
     "text": [
      "0                         NaN\n",
      "1       Acajutla, El Salvador\n",
      "2            Acapulco, Mexico\n",
      "3            Acapulco, Mexico\n",
      "4            Acapulco, Mexico\n",
      "                ...          \n",
      "1007                      NaN\n",
      "1008                      NaN\n",
      "1009                      NaN\n",
      "1010                      NaN\n",
      "1011                      NaN\n",
      "Name: Stops / Ports, Length: 1012, dtype: object\n"
     ]
    }
   ],
   "source": [
    "ports = df[\"Stops / Ports\"]   # isolate ports column\n",
    "print(ports)"
   ]
  },
  {
   "cell_type": "code",
   "execution_count": 11,
   "id": "ad2a372e",
   "metadata": {},
   "outputs": [],
   "source": [
    "# How to remove NaN and -inf values in Python pandas\n",
    "# dropna() : removes rows or columns with NaN or -inf values.\n",
    "# replace() : replaces NaN and -inf values with a specified value.\n",
    "# interpolate() : fills NaN values with interpolated values.\n",
    "\n",
    "# https://saturncloud.io/blog/python-pandas-how-to-remove-nan-and-inf-values/ "
   ]
  },
  {
   "cell_type": "code",
   "execution_count": 12,
   "id": "f5e11945",
   "metadata": {
    "scrolled": true
   },
   "outputs": [
    {
     "name": "stdout",
     "output_type": "stream",
     "text": [
      "1      Acajutla, El Salvador\n",
      "2           Acapulco, Mexico\n",
      "3           Acapulco, Mexico\n",
      "4           Acapulco, Mexico\n",
      "5           Acapulco, Mexico\n",
      "               ...          \n",
      "668          Yokohama, Japan\n",
      "669          Yokohama, Japan\n",
      "670      Zihuatenejo, Mexico\n",
      "671      Zihuatenejo, Mexico\n",
      "672      Zihuatenejo, Mexico\n",
      "Name: Stops / Ports, Length: 672, dtype: object\n"
     ]
    }
   ],
   "source": [
    "ports = ports.dropna()   #drop NaN values to return list of ports\n",
    "print(ports)"
   ]
  },
  {
   "cell_type": "code",
   "execution_count": 13,
   "id": "d4ff0064",
   "metadata": {},
   "outputs": [
    {
     "name": "stdout",
     "output_type": "stream",
     "text": [
      "(38.3310669, -85.6859233)\n"
     ]
    }
   ],
   "source": [
    "from geopy.geocoders import Nominatim\n",
    "geolocator = Nominatim(user_agent=\"jupyter\")            #jupyter is the app name \n",
    "\n",
    "location = geolocator.geocode(\"ports[1]\")\n",
    "\n",
    "#print(location.address)\n",
    "print((location.latitude, location.longitude))"
   ]
  },
  {
   "cell_type": "code",
   "execution_count": 14,
   "id": "ff2a46e6",
   "metadata": {},
   "outputs": [],
   "source": [
    "location = geolocator.geocode(\"ports\")"
   ]
  },
  {
   "cell_type": "code",
   "execution_count": 15,
   "id": "d29c06e7",
   "metadata": {},
   "outputs": [
    {
     "name": "stdout",
     "output_type": "stream",
     "text": [
      "(47.0161003, 0.5534383)\n"
     ]
    }
   ],
   "source": [
    "print((location.latitude, location.longitude))"
   ]
  },
  {
   "cell_type": "code",
   "execution_count": 16,
   "id": "39a5c35c",
   "metadata": {},
   "outputs": [],
   "source": [
    "location1 = geolocator.geocode(\"ports[]\")"
   ]
  },
  {
   "cell_type": "code",
   "execution_count": 17,
   "id": "2419ed45",
   "metadata": {},
   "outputs": [
    {
     "name": "stdout",
     "output_type": "stream",
     "text": [
      "(47.0161003, 0.5534383)\n"
     ]
    }
   ],
   "source": [
    "print((location.latitude, location.longitude))"
   ]
  },
  {
   "cell_type": "code",
   "execution_count": 19,
   "id": "285de4c6",
   "metadata": {},
   "outputs": [],
   "source": [
    "#does not work, attempted to run a series through geopy \n",
    "#for i in range(-1,673):\n",
    "#    \n",
    "#    i = 0\n",
    "#    location_port = geolocator.geocode(\"ports[i]\")\n",
    "#    print((location_port.latitude, location_port.longitude))\n",
    "#    i += 1\n",
    "#\n",
    "#print(i) "
   ]
  },
  {
   "cell_type": "code",
   "execution_count": 20,
   "id": "4ccf347f",
   "metadata": {},
   "outputs": [],
   "source": [
    "#For loop from 0 to 2, therefore running 3 times.\n",
    "\n",
    "\n",
    "# for x in range(0, 3):\n",
    "#   print(\"We're on time %d\" % (x))"
   ]
  },
  {
   "cell_type": "code",
   "execution_count": 23,
   "id": "86d30d6e",
   "metadata": {},
   "outputs": [
    {
     "name": "stdout",
     "output_type": "stream",
     "text": [
      "Heartland Way, 1, Ports of Indiana - Jeffersonville, Jeffersonville, Clark County, Indiana, 47130, United States\n",
      "(38.3310669, -85.6859233)\n"
     ]
    }
   ],
   "source": [
    "#yields wrong row 1 address, but lat and long agree with address  \n",
    "location = geolocator.geocode(\"ports[1]\")\n",
    "\n",
    "print(location.address)\n",
    "print((location.latitude, location.longitude))"
   ]
  },
  {
   "cell_type": "code",
   "execution_count": 24,
   "id": "6d0478f4",
   "metadata": {},
   "outputs": [
    {
     "name": "stdout",
     "output_type": "stream",
     "text": [
      "(13.5897967, -89.8297601)\n"
     ]
    }
   ],
   "source": [
    "#correct address and lat & long\n",
    "location_elsal = geolocator.geocode(\"Acajutla, El Salvador\")\n",
    "print((location_elsal.latitude, location_elsal.longitude))"
   ]
  },
  {
   "cell_type": "code",
   "execution_count": 25,
   "id": "1e1c5a36",
   "metadata": {},
   "outputs": [],
   "source": [
    "#location_ports = ports.geolocator.geocode()"
   ]
  },
  {
   "cell_type": "code",
   "execution_count": 26,
   "id": "fc004e08",
   "metadata": {},
   "outputs": [
    {
     "data": {
      "text/plain": [
       "<pandas.core.indexing._LocIndexer at 0x7fe459fa7540>"
      ]
     },
     "execution_count": 26,
     "metadata": {},
     "output_type": "execute_result"
    }
   ],
   "source": [
    "#isolate ports\n",
    "ports.loc()"
   ]
  },
  {
   "cell_type": "code",
   "execution_count": 27,
   "id": "382055bf",
   "metadata": {},
   "outputs": [],
   "source": [
    "#review error\n",
    "\n",
    "#i = 0 \n",
    "\n",
    "#for i in range(0,672):\n",
    "#    port = ports[i]\n",
    " #   location = geolocator.geocode('port')\n",
    "  #  print((location.latitude, location.longitude))\n",
    "   # print(i)\n",
    "    \n",
    "    #i += 1\n",
    "    \n",
    "#return(i)\n",
    "\n",
    "#location = geolocator.geocode([ports.loc()])\n",
    "#print((location.latitude, location.longitude))"
   ]
  },
  {
   "cell_type": "code",
   "execution_count": 28,
   "id": "ab85dfc9",
   "metadata": {},
   "outputs": [],
   "source": [
    "#location = geolocator.geocode('')\n",
    "#print((location.latitude, location.longitude))  HAS ERROR"
   ]
  },
  {
   "cell_type": "code",
   "execution_count": 32,
   "id": "1f685f0d",
   "metadata": {},
   "outputs": [
    {
     "data": {
      "text/plain": [
       "1      Acajutla, El Salvador\n",
       "27          Acapulco, Mexico\n",
       "26          Acapulco, Mexico\n",
       "25          Acapulco, Mexico\n",
       "24          Acapulco, Mexico\n",
       "               ...          \n",
       "668          Yokohama, Japan\n",
       "669          Yokohama, Japan\n",
       "671      Zihuatenejo, Mexico\n",
       "670      Zihuatenejo, Mexico\n",
       "672      Zihuatenejo, Mexico\n",
       "Name: Stops / Ports, Length: 672, dtype: object"
      ]
     },
     "execution_count": 32,
     "metadata": {},
     "output_type": "execute_result"
    }
   ],
   "source": [
    "#alphebitize values and match like ports\n",
    "ports.sort_values()"
   ]
  },
  {
   "cell_type": "code",
   "execution_count": 33,
   "id": "d19ffb1d",
   "metadata": {},
   "outputs": [],
   "source": [
    "#create a new series dropping duplicated ports \n",
    "cut_ports = ports.drop_duplicates()"
   ]
  },
  {
   "cell_type": "code",
   "execution_count": 34,
   "id": "979d75d8",
   "metadata": {},
   "outputs": [
    {
     "name": "stdout",
     "output_type": "stream",
     "text": [
      "(16.8680495, -99.8940182)\n"
     ]
    }
   ],
   "source": [
    "#testing geopy function\n",
    "location = geolocator.geocode('Acapulco, Mexico')      #location does work with name input\n",
    "print((location.latitude, location.longitude))"
   ]
  },
  {
   "cell_type": "markdown",
   "id": "9fe2100a",
   "metadata": {},
   "source": [
    "***need to figure out how to run a string of names through geolocator.geocode('name')***"
   ]
  },
  {
   "cell_type": "code",
   "execution_count": 35,
   "id": "8d178091",
   "metadata": {},
   "outputs": [
    {
     "name": "stdout",
     "output_type": "stream",
     "text": [
      "1            Acajutla, El Salvador\n",
      "2                 Acapulco, Mexico\n",
      "28            Alameda   (shipyard)\n",
      "30               Alexandria, Egypt\n",
      "31                Algiers, Algeria\n",
      "                  ...             \n",
      "656            Vladivostok, Russia\n",
      "657                  Washington DC\n",
      "659    Willemstad, Curacao, D.W.I.\n",
      "668                Yokohama, Japan\n",
      "670            Zihuatenejo, Mexico\n",
      "Name: Stops / Ports, Length: 155, dtype: object\n"
     ]
    }
   ],
   "source": [
    "#view series\n",
    "print(cut_ports)"
   ]
  },
  {
   "cell_type": "markdown",
   "id": "697f0d8d",
   "metadata": {},
   "source": [
    "### sample code from ChatGPT\n",
    "#from geopy.geocoders import Nominatim\n",
    "\n",
    "#def get_lat_long(cut_port):\n",
    "    geolocator = Nominatim(user_agent=\"jupyter\")\n",
    "    location = geolocator.geocode(cut_ports)\n",
    "    if location:\n",
    "        return location.latitude, location.longitude\n",
    "    else:\n",
    "        return None, None\n",
    "\n",
    "def convert_names_to_coordinates(cut_ports):\n",
    "    coordinates = []\n",
    "    for name in names:\n",
    "        lat, lon = get_lat_long(cut_ports)\n",
    "        coordinates.append((name, lat, lon))\n",
    "    return coordinates\n",
    "\n",
    "Example usage:\n",
    "names = [\"New York\", \"London\", \"Tokyo\"]\n",
    "coordinates = convert_names_to_coordinates(names)\n",
    "for name, lat, lon in coordinates:\n",
    "    print(f\"{name}: Latitude = {lat}, Longitude = {lon}\")"
   ]
  },
  {
   "cell_type": "code",
   "execution_count": 36,
   "id": "c2594663",
   "metadata": {},
   "outputs": [
    {
     "data": {
      "text/plain": [
       "pandas.core.series.Series"
      ]
     },
     "execution_count": 36,
     "metadata": {},
     "output_type": "execute_result"
    }
   ],
   "source": [
    "#view data type of cut_port\n",
    "type(cut_ports)"
   ]
  },
  {
   "cell_type": "code",
   "execution_count": 37,
   "id": "91ccd2ca",
   "metadata": {},
   "outputs": [],
   "source": [
    "#create list by transforming (wording?) series to list\n",
    "list_cut_ports = cut_ports.to_list()"
   ]
  },
  {
   "cell_type": "code",
   "execution_count": 38,
   "id": "5adadfb3",
   "metadata": {},
   "outputs": [
    {
     "data": {
      "text/plain": [
       "pandas.core.series.Series"
      ]
     },
     "execution_count": 38,
     "metadata": {},
     "output_type": "execute_result"
    }
   ],
   "source": [
    "#view data type of cut_ports to ensure it is still a series\n",
    "type(cut_ports)"
   ]
  },
  {
   "cell_type": "code",
   "execution_count": 39,
   "id": "b828553d",
   "metadata": {},
   "outputs": [
    {
     "data": {
      "text/plain": [
       "list"
      ]
     },
     "execution_count": 39,
     "metadata": {},
     "output_type": "execute_result"
    }
   ],
   "source": [
    "#view data type of new list, ensure it is a list\n",
    "type(list_cut_ports)"
   ]
  },
  {
   "cell_type": "code",
   "execution_count": 40,
   "id": "2cf44773",
   "metadata": {},
   "outputs": [
    {
     "data": {
      "text/plain": [
       "['Acajutla, El Salvador',\n",
       " 'Acapulco, Mexico',\n",
       " 'Alameda   (shipyard)',\n",
       " 'Alexandria, Egypt',\n",
       " 'Algiers, Algeria',\n",
       " 'Amapala, Honduras',\n",
       " 'Anchorage, Alaska',\n",
       " 'Annapolis, Maryland',\n",
       " 'Antofagasta, Chile',\n",
       " 'Apia,  W.Samoa',\n",
       " 'Apra, Guam, Marianas',\n",
       " 'Astoria, Oregon',\n",
       " 'Auckland, New Zealand',\n",
       " 'Bahia de Todos Santos, Mex',\n",
       " 'Balboa, Panama',\n",
       " 'Barcelona, Spain',\n",
       " 'Bitung, Indonesia',\n",
       " 'Brisbane, Australia',\n",
       " 'Buenaventura, Colombia',\n",
       " 'Buenos Aries, Argentina',\n",
       " 'Cabo San Lucas, Mex',\n",
       " 'Cairns, Australia',\n",
       " 'Callao, Peru',\n",
       " 'Caragena, Colombia',\n",
       " 'Caragena, Columbia',\n",
       " 'Cebu City, Philippines',\n",
       " 'Cedros Island, Mex.',\n",
       " 'Channel Island',\n",
       " 'Cocos Island, Costa Rica',\n",
       " 'Colonia, Yap,  W.Caroline Isl.',\n",
       " 'Columbo, Ceylon',\n",
       " 'Coos Bay, Oregon',\n",
       " 'Costa Rica',\n",
       " 'Crescent City',\n",
       " 'Cristobal, Panama',\n",
       " 'Easter Island, Chile',\n",
       " 'Ensenada, Mexico',\n",
       " 'Eureka CA',\n",
       " 'Funchal, Madeira',\n",
       " 'Galapagos Islands, Ecuador',\n",
       " 'Genoa, Italy',\n",
       " 'Georgetown, Grand Cayman',\n",
       " 'Gibraltar, Spain',\n",
       " 'Glacier Bay, Alaska',\n",
       " 'Guantanamo, Cuba',\n",
       " 'Guayaquil, Ecuador',\n",
       " 'Gulf of Panama',\n",
       " 'Hampton Roads, Virginia',\n",
       " 'Harumi, Japan',\n",
       " 'Havana, Cuba',\n",
       " 'Hilo, Hawaii',\n",
       " 'Hong Kong, B.C.C.',\n",
       " 'Honolulu Hawaii',\n",
       " 'Houston Texas',\n",
       " 'Iquique, Chile',\n",
       " 'Isla Cedos, Mexico',\n",
       " 'Isla Cedros, Mexico',\n",
       " 'Isla Roatan, Honduras',\n",
       " 'Juneau, Alaska',\n",
       " 'Kahului, Maui, Hawaii',\n",
       " 'Kailua-Kona, Hawaii',\n",
       " 'Ketchikan, Alaska',\n",
       " 'Kingston, Jamaica',\n",
       " 'Kobe Japan',\n",
       " 'Kodiak, Alaska',\n",
       " 'La Union, Salvador',\n",
       " 'Lahaina Roads, Hawaii',\n",
       " 'Lahaina, Maui, Hawaii',\n",
       " 'Lazaro Cardenas, Mexico',\n",
       " 'Long Beach, Calif',\n",
       " 'Magdalena Bay, Mexico',\n",
       " 'Majuro Atoll, Marshall Islands',\n",
       " 'Manila, Philippines',\n",
       " 'Manzanillo, Mexico',\n",
       " 'MARAD fleet, Suisun Bay',\n",
       " 'Marseilles, France',\n",
       " 'Mazatlan, Mexico',\n",
       " 'Melbourne, Australia',\n",
       " 'Miami, Florida',\n",
       " 'Midway',\n",
       " 'Monterey, Calif.',\n",
       " 'Montevideo, Uruguay',\n",
       " 'Morrow Cove',\n",
       " 'Naha, Okinawa, Japan',\n",
       " 'Naples, Italy',\n",
       " 'Naples, Italy            ',\n",
       " 'Nawiliwili, Kauai, Hawaii',\n",
       " 'New Orleans',\n",
       " 'New York City NY',\n",
       " 'Newport News, Virginia',\n",
       " 'Noumea, New Caledonia',\n",
       " 'Nuka Hiva, Marquesas',\n",
       " 'Nukua Lopa, Tonga',\n",
       " 'Nukualofa, Tonga Islands',\n",
       " 'Oakland',\n",
       " 'Oakland ',\n",
       " 'Pago Pago, Am. Samoa',\n",
       " 'Pago Pago, Am.Samoa',\n",
       " 'Palmyra Island',\n",
       " 'Papeete, Tahiti',\n",
       " 'Pireaus, Greece',\n",
       " 'Port Hueneme, Calif.',\n",
       " 'Port of Spain, Trinidad',\n",
       " 'Port Said, Egypt',\n",
       " 'Port San Luis',\n",
       " 'Portland, Oregon',\n",
       " 'Prince William Sound',\n",
       " 'Puerto Vallarta, Mex',\n",
       " 'Punta Arenas, Chile',\n",
       " 'Punta Arenas, Costa Rica',\n",
       " 'Pusan, Korea',\n",
       " 'Quepos, Costa Rica',\n",
       " 'Rarotanga',\n",
       " 'Redwood Creek',\n",
       " 'Richmond, Calif.',\n",
       " 'Rio de Janeiro, Brazil',\n",
       " 'Robinson Crusoe Island, Chile',\n",
       " 'Sacramento',\n",
       " 'Saipan, Marianas Islands',\n",
       " 'San Blas Island, Panama',\n",
       " 'San Clemente Island',\n",
       " 'San Diego, Calif',\n",
       " 'San Fran Bay',\n",
       " 'San Francisco',\n",
       " 'San Francisco   ',\n",
       " 'San Jose, Guatamala',\n",
       " 'San Jose, Guatemala',\n",
       " 'San Juan, Puerto Rico',\n",
       " 'San Pablo Bay',\n",
       " 'Santa Barbara, Calif.',\n",
       " 'Santa Catalina Island',\n",
       " 'Santa Cruz, Calif.',\n",
       " 'Sasebo, Japan',\n",
       " 'Seattle, Wash',\n",
       " 'Shanghai, China',\n",
       " 'Singapore',\n",
       " 'Sitka, Alaska',\n",
       " 'St. Elmo Bay, Panama',\n",
       " 'St. Thomas, Virgin Islands',\n",
       " 'Stockton',\n",
       " 'Subic Bay, Philippines',\n",
       " 'Suva, Fiji Islands',\n",
       " 'Sydney, Australia',\n",
       " 'Tiburon',\n",
       " 'Treasure Island, CA',\n",
       " 'Vallejo',\n",
       " 'Valparaiso, Chile',\n",
       " 'Vancouver, B.C.',\n",
       " 'Vera Cruz, Mexico',\n",
       " 'Villefrenche, France',\n",
       " 'Vladivostok, Russia',\n",
       " 'Washington DC',\n",
       " 'Willemstad, Curacao, D.W.I.',\n",
       " 'Yokohama, Japan',\n",
       " 'Zihuatenejo, Mexico']"
      ]
     },
     "execution_count": 40,
     "metadata": {},
     "output_type": "execute_result"
    }
   ],
   "source": [
    "#view list\n",
    "list_cut_ports"
   ]
  },
  {
   "cell_type": "markdown",
   "id": "bf667056",
   "metadata": {},
   "source": [
    "### from ChatGPT modified for my data\n",
    "\n",
    "def get_lat_long(address):                 \n",
    "    geolocator = Nominatim(user_agent=\"jupyter\")\n",
    "    location = geolocator.geocode(address)\n",
    "    if location:\n",
    "        return location.latitude, location.longitude\n",
    "    else:\n",
    "        return None, None\n",
    "    \n",
    "def convert_names_to_coordinates(list_cut_ports):\n",
    "    coordinates = []\n",
    "    for x in list_cut_ports:\n",
    "        lat, lon = get_lat_long(list_cut_ports)\n",
    "        coordinates.append((x, lat, lon))\n",
    "    return coordinates"
   ]
  },
  {
   "cell_type": "markdown",
   "id": "61b67116",
   "metadata": {},
   "source": [
    "### ran for ever a minute with no execution, something is wrong\n",
    "#names = [\"New York\", \"London\", \"Tokyo\"]\n",
    "coordinates = convert_names_to_coordinates(list_cut_ports)\n",
    "for x, lat, lon in coordinates:\n",
    "    print(f\"{x}: Latitude = {lat}, Longitude = {lon}\")"
   ]
  },
  {
   "cell_type": "code",
   "execution_count": 41,
   "id": "074af76f",
   "metadata": {},
   "outputs": [],
   "source": [
    "#define function which takes in a port name and returns a lat and long\n",
    "\n",
    "def convert(name_port):\n",
    "    \n",
    "    \n",
    "    location = geolocator.geocode(name_port)\n",
    "    \n",
    "    address  = location.address\n",
    "    lat      = location.latitude\n",
    "    long     = location.longitude\n",
    "\n",
    "    print(location.address)\n",
    "    print((location.latitude, location.longitude))\n",
    "    \n",
    "    return lat, long\n"
   ]
  },
  {
   "cell_type": "code",
   "execution_count": 42,
   "id": "ee116570",
   "metadata": {},
   "outputs": [
    {
     "name": "stdout",
     "output_type": "stream",
     "text": [
      "Acajutla, Municipio de Acajutla, Departamento de Sonsonate, El Salvador\n",
      "(13.5897967, -89.8297601)\n",
      "Acapulco, Acapulco de Juárez, Guerrero, 39300, México\n",
      "(16.8680495, -99.8940182)\n"
     ]
    },
    {
     "ename": "AttributeError",
     "evalue": "'NoneType' object has no attribute 'address'",
     "output_type": "error",
     "traceback": [
      "\u001b[0;31m---------------------------------------------------------------------------\u001b[0m",
      "\u001b[0;31mAttributeError\u001b[0m                            Traceback (most recent call last)",
      "Input \u001b[0;32mIn [42]\u001b[0m, in \u001b[0;36m<cell line: 2>\u001b[0;34m()\u001b[0m\n\u001b[1;32m      1\u001b[0m input_list  \u001b[38;5;241m=\u001b[39m list_cut_ports\n\u001b[0;32m----> 2\u001b[0m output_list \u001b[38;5;241m=\u001b[39m [convert(i) \u001b[38;5;28;01mfor\u001b[39;00m i \u001b[38;5;129;01min\u001b[39;00m input_list]\n",
      "Input \u001b[0;32mIn [42]\u001b[0m, in \u001b[0;36m<listcomp>\u001b[0;34m(.0)\u001b[0m\n\u001b[1;32m      1\u001b[0m input_list  \u001b[38;5;241m=\u001b[39m list_cut_ports\n\u001b[0;32m----> 2\u001b[0m output_list \u001b[38;5;241m=\u001b[39m [\u001b[43mconvert\u001b[49m\u001b[43m(\u001b[49m\u001b[43mi\u001b[49m\u001b[43m)\u001b[49m \u001b[38;5;28;01mfor\u001b[39;00m i \u001b[38;5;129;01min\u001b[39;00m input_list]\n",
      "Input \u001b[0;32mIn [41]\u001b[0m, in \u001b[0;36mconvert\u001b[0;34m(name_port)\u001b[0m\n\u001b[1;32m      3\u001b[0m \u001b[38;5;28;01mdef\u001b[39;00m \u001b[38;5;21mconvert\u001b[39m(name_port):\n\u001b[1;32m      5\u001b[0m     location \u001b[38;5;241m=\u001b[39m geolocator\u001b[38;5;241m.\u001b[39mgeocode(name_port)\n\u001b[0;32m----> 6\u001b[0m     address  \u001b[38;5;241m=\u001b[39m \u001b[43mlocation\u001b[49m\u001b[38;5;241;43m.\u001b[39;49m\u001b[43maddress\u001b[49m\n\u001b[1;32m      7\u001b[0m     lat      \u001b[38;5;241m=\u001b[39m location\u001b[38;5;241m.\u001b[39mlatitude\n\u001b[1;32m      8\u001b[0m     long     \u001b[38;5;241m=\u001b[39m location\u001b[38;5;241m.\u001b[39mlongitude\n",
      "\u001b[0;31mAttributeError\u001b[0m: 'NoneType' object has no attribute 'address'"
     ]
    }
   ],
   "source": [
    "input_list  = list_cut_ports\n",
    "output_list = [convert(i) for i in input_list]"
   ]
  },
  {
   "cell_type": "code",
   "execution_count": null,
   "id": "a61c9b4b",
   "metadata": {},
   "outputs": [],
   "source": []
  }
 ],
 "metadata": {
  "kernelspec": {
   "display_name": "Python 3 (ipykernel)",
   "language": "python",
   "name": "python3"
  },
  "language_info": {
   "codemirror_mode": {
    "name": "ipython",
    "version": 3
   },
   "file_extension": ".py",
   "mimetype": "text/x-python",
   "name": "python",
   "nbconvert_exporter": "python",
   "pygments_lexer": "ipython3",
   "version": "3.9.12"
  }
 },
 "nbformat": 4,
 "nbformat_minor": 5
}
