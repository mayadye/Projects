{
 "cells": [
  {
   "cell_type": "markdown",
   "id": "44f56bbc",
   "metadata": {},
   "source": [
    "### 1 "
   ]
  },
  {
   "cell_type": "code",
   "execution_count": 1,
   "id": "052f6220",
   "metadata": {},
   "outputs": [
    {
     "name": "stdout",
     "output_type": "stream",
     "text": [
      "0    2\n",
      "1    4\n",
      "2    6\n",
      "dtype: int64\n"
     ]
    }
   ],
   "source": [
    "import pandas as pd \n",
    "ds = pd.Series([2,4,6])\n",
    "print(ds)"
   ]
  },
  {
   "cell_type": "markdown",
   "id": "ced524d9",
   "metadata": {},
   "source": [
    "### 2"
   ]
  },
  {
   "cell_type": "code",
   "execution_count": 5,
   "id": "06df5a6d",
   "metadata": {},
   "outputs": [
    {
     "name": "stdout",
     "output_type": "stream",
     "text": [
      "<class 'list'>\n"
     ]
    }
   ],
   "source": [
    "print(type(ds.tolist()))"
   ]
  },
  {
   "cell_type": "code",
   "execution_count": 6,
   "id": "4ca4f52e",
   "metadata": {},
   "outputs": [
    {
     "data": {
      "text/plain": [
       "pandas.core.series.Series"
      ]
     },
     "execution_count": 6,
     "metadata": {},
     "output_type": "execute_result"
    }
   ],
   "source": [
    "type(ds)"
   ]
  },
  {
   "cell_type": "code",
   "execution_count": 7,
   "id": "3d58b04b",
   "metadata": {},
   "outputs": [],
   "source": [
    "ds = ds.tolist()"
   ]
  },
  {
   "cell_type": "code",
   "execution_count": 8,
   "id": "ab91a730",
   "metadata": {},
   "outputs": [
    {
     "data": {
      "text/plain": [
       "list"
      ]
     },
     "execution_count": 8,
     "metadata": {},
     "output_type": "execute_result"
    }
   ],
   "source": [
    "type(ds)"
   ]
  },
  {
   "cell_type": "markdown",
   "id": "5e440eac",
   "metadata": {},
   "source": [
    "### 3"
   ]
  },
  {
   "cell_type": "code",
   "execution_count": 13,
   "id": "b50590e3",
   "metadata": {},
   "outputs": [
    {
     "name": "stdout",
     "output_type": "stream",
     "text": [
      "0    3\n",
      "1    5\n",
      "2    7\n",
      "dtype: int64 0    1\n",
      "1    1\n",
      "2    1\n",
      "dtype: int64 0     2\n",
      "1     6\n",
      "2    12\n",
      "dtype: int64 0    2.000000\n",
      "1    1.500000\n",
      "2    1.333333\n",
      "dtype: float64\n"
     ]
    }
   ],
   "source": [
    "ds1 = pd.Series([2,3,4])\n",
    "ds2 = pd.Series([1,2,3])\n",
    "add = ds1 + ds2 \n",
    "sub = ds1 - ds2 \n",
    "mult = ds1 * ds2\n",
    "div = ds1 / ds2 \n",
    "\n",
    "print(add, sub, mult, div)"
   ]
  },
  {
   "cell_type": "markdown",
   "id": "02042395",
   "metadata": {},
   "source": [
    "### 4"
   ]
  },
  {
   "cell_type": "code",
   "execution_count": 15,
   "id": "d140c48a",
   "metadata": {},
   "outputs": [
    {
     "data": {
      "text/html": [
       "<div>\n",
       "<style scoped>\n",
       "    .dataframe tbody tr th:only-of-type {\n",
       "        vertical-align: middle;\n",
       "    }\n",
       "\n",
       "    .dataframe tbody tr th {\n",
       "        vertical-align: top;\n",
       "    }\n",
       "\n",
       "    .dataframe thead th {\n",
       "        text-align: right;\n",
       "    }\n",
       "</style>\n",
       "<table border=\"1\" class=\"dataframe\">\n",
       "  <thead>\n",
       "    <tr style=\"text-align: right;\">\n",
       "      <th></th>\n",
       "      <th>self</th>\n",
       "      <th>other</th>\n",
       "    </tr>\n",
       "  </thead>\n",
       "  <tbody>\n",
       "    <tr>\n",
       "      <th>0</th>\n",
       "      <td>2.0</td>\n",
       "      <td>1.0</td>\n",
       "    </tr>\n",
       "    <tr>\n",
       "      <th>1</th>\n",
       "      <td>4.0</td>\n",
       "      <td>3.0</td>\n",
       "    </tr>\n",
       "    <tr>\n",
       "      <th>2</th>\n",
       "      <td>6.0</td>\n",
       "      <td>5.0</td>\n",
       "    </tr>\n",
       "    <tr>\n",
       "      <th>3</th>\n",
       "      <td>8.0</td>\n",
       "      <td>7.0</td>\n",
       "    </tr>\n",
       "  </tbody>\n",
       "</table>\n",
       "</div>"
      ],
      "text/plain": [
       "   self  other\n",
       "0   2.0    1.0\n",
       "1   4.0    3.0\n",
       "2   6.0    5.0\n",
       "3   8.0    7.0"
      ]
     },
     "execution_count": 15,
     "metadata": {},
     "output_type": "execute_result"
    }
   ],
   "source": [
    "ds1 = pd.Series([2,4,6,8,10])\n",
    "ds2 = pd.Series([1,3,5,7,10])\n",
    "ds1.compare(ds2)"
   ]
  },
  {
   "cell_type": "code",
   "execution_count": 16,
   "id": "e3a725cf",
   "metadata": {},
   "outputs": [
    {
     "name": "stdout",
     "output_type": "stream",
     "text": [
      "0    False\n",
      "1    False\n",
      "2    False\n",
      "3    False\n",
      "4     True\n",
      "dtype: bool\n",
      "0     True\n",
      "1     True\n",
      "2     True\n",
      "3     True\n",
      "4    False\n",
      "dtype: bool\n",
      "0    False\n",
      "1    False\n",
      "2    False\n",
      "3    False\n",
      "4    False\n",
      "dtype: bool\n"
     ]
    }
   ],
   "source": [
    "print(ds1==ds2)\n",
    "print(ds1>ds2)\n",
    "print(ds1<ds2)"
   ]
  },
  {
   "cell_type": "markdown",
   "id": "7f2d3764",
   "metadata": {},
   "source": [
    "### 5"
   ]
  },
  {
   "cell_type": "code",
   "execution_count": 17,
   "id": "6e6ad3b6",
   "metadata": {},
   "outputs": [
    {
     "name": "stdout",
     "output_type": "stream",
     "text": [
      "{'a': 100, 'b': 200, 'c': 300, 'd': 400, 'e': 800}\n",
      "a    100\n",
      "b    200\n",
      "c    300\n",
      "d    400\n",
      "e    800\n",
      "dtype: int64\n"
     ]
    }
   ],
   "source": [
    "d1 = {'a':100, 'b':200, 'c':300, 'd':400, 'e':800}\n",
    "print(d1)\n",
    "new_series = pd.Series(d1)\n",
    "print(new_series)"
   ]
  },
  {
   "cell_type": "markdown",
   "id": "cf3aee05",
   "metadata": {},
   "source": [
    "### 6"
   ]
  },
  {
   "cell_type": "code",
   "execution_count": 21,
   "id": "b882a4f8",
   "metadata": {},
   "outputs": [
    {
     "name": "stdout",
     "output_type": "stream",
     "text": [
      "[1 2 3]\n",
      "<class 'numpy.ndarray'>\n",
      "0    1\n",
      "1    2\n",
      "2    3\n",
      "dtype: int64\n",
      "<class 'pandas.core.series.Series'>\n"
     ]
    }
   ],
   "source": [
    "import numpy as np \n",
    "ds = np.array([1,2,3])\n",
    "print(ds)\n",
    "print(type(ds))\n",
    "ds1 = pd.Series(ds)\n",
    "print(ds1)\n",
    "print(type(ds1))"
   ]
  },
  {
   "cell_type": "markdown",
   "id": "160ef61f",
   "metadata": {},
   "source": [
    "### 7"
   ]
  },
  {
   "cell_type": "code",
   "execution_count": 22,
   "id": "d1d5c392",
   "metadata": {},
   "outputs": [
    {
     "name": "stdout",
     "output_type": "stream",
     "text": [
      "0       100\n",
      "1       200\n",
      "2    python\n",
      "3    300.12\n",
      "4       400\n",
      "dtype: object\n"
     ]
    }
   ],
   "source": [
    "ds = pd.Series([100,200,'python',300.12,400])\n",
    "print(ds)"
   ]
  },
  {
   "cell_type": "code",
   "execution_count": 26,
   "id": "04342cfb",
   "metadata": {},
   "outputs": [
    {
     "name": "stdout",
     "output_type": "stream",
     "text": [
      "0    100.00\n",
      "1    200.00\n",
      "2       NaN\n",
      "3    300.12\n",
      "4    400.00\n",
      "dtype: float64\n"
     ]
    }
   ],
   "source": [
    "ds1 = pd.to_numeric(ds, errors=\"coerce\")\n",
    "print(ds1)"
   ]
  },
  {
   "cell_type": "code",
   "execution_count": 27,
   "id": "62db4b9e",
   "metadata": {},
   "outputs": [
    {
     "name": "stdout",
     "output_type": "stream",
     "text": [
      "0       100\n",
      "1       200\n",
      "2    python\n",
      "3    300.12\n",
      "4       400\n",
      "dtype: object\n"
     ]
    }
   ],
   "source": [
    "ds1 = pd.to_numeric(ds, errors=\"ignore\")\n",
    "print(ds1)"
   ]
  },
  {
   "cell_type": "markdown",
   "id": "9c68f1bf",
   "metadata": {},
   "source": [
    "### 8"
   ]
  },
  {
   "cell_type": "code",
   "execution_count": 36,
   "id": "c94c15ee",
   "metadata": {},
   "outputs": [
    {
     "name": "stdout",
     "output_type": "stream",
     "text": [
      "   col1  col2  col3\n",
      "0     1     4     7\n",
      "1     2     5     5\n",
      "2     3     6     8\n",
      "3     4     9    12\n",
      "4     7     5     1\n",
      "5    11     0    11\n"
     ]
    }
   ],
   "source": [
    "d = {'col1':[1,2,3,4,7,11],'col2':[4,5,6,9,5,0],'col3':[7,5,8,12,1,11]}\n",
    "df = pd.DataFrame(data=d)\n",
    "print(df)"
   ]
  },
  {
   "cell_type": "code",
   "execution_count": 39,
   "id": "b5b3c93f",
   "metadata": {},
   "outputs": [
    {
     "name": "stdout",
     "output_type": "stream",
     "text": [
      "0     1\n",
      "1     2\n",
      "2     3\n",
      "3     4\n",
      "4     7\n",
      "5    11\n",
      "Name: col1, dtype: int64\n",
      "<class 'pandas.core.series.Series'>\n"
     ]
    }
   ],
   "source": [
    "s1 = df.iloc[:,0]\n",
    "print(s1)\n",
    "print(type(s1))"
   ]
  },
  {
   "cell_type": "code",
   "execution_count": 42,
   "id": "5a9ad0a9",
   "metadata": {},
   "outputs": [
    {
     "name": "stdout",
     "output_type": "stream",
     "text": [
      "0     1\n",
      "1     2\n",
      "2     3\n",
      "3     4\n",
      "4     7\n",
      "5    11\n",
      "Name: col1, dtype: int64\n",
      "<class 'pandas.core.series.Series'>\n"
     ]
    }
   ],
   "source": [
    "s2 = df.loc[:,'col1']\n",
    "print(s2)\n",
    "print(type(s2))"
   ]
  },
  {
   "cell_type": "markdown",
   "id": "2c32df36",
   "metadata": {},
   "source": [
    "### 9"
   ]
  },
  {
   "cell_type": "code",
   "execution_count": 46,
   "id": "5b601f5d",
   "metadata": {},
   "outputs": [
    {
     "name": "stdout",
     "output_type": "stream",
     "text": [
      "0       100\n",
      "1       200\n",
      "2    python\n",
      "3    300.12\n",
      "4       400\n",
      "dtype: object <class 'pandas.core.series.Series'>\n",
      "<xarray.DataArray (index: 5)>\n",
      "array([100, 200, 'python', 300.12, 400], dtype=object)\n",
      "Coordinates:\n",
      "  * index    (index) int64 0 1 2 3 4 <class 'xarray.core.dataarray.DataArray'>\n"
     ]
    }
   ],
   "source": [
    "ds = pd.Series([100,200,'python',300.12,400])\n",
    "print(ds,type(ds))\n",
    "ar = ds.to_xarray()    #my try\n",
    "print(ar,type(ar))"
   ]
  },
  {
   "cell_type": "code",
   "execution_count": 47,
   "id": "28b7dacf",
   "metadata": {},
   "outputs": [
    {
     "name": "stdout",
     "output_type": "stream",
     "text": [
      "0       100\n",
      "1       200\n",
      "2    python\n",
      "3    300.12\n",
      "4       400\n",
      "dtype: object <class 'pandas.core.series.Series'>\n",
      "[100 200 'python' 300.12 400] <class 'numpy.ndarray'>\n"
     ]
    }
   ],
   "source": [
    "ds = pd.Series([100,200,'python',300.12,400])\n",
    "print(ds,type(ds))\n",
    "a = ds.values\n",
    "print(a,type(a))"
   ]
  },
  {
   "cell_type": "markdown",
   "id": "9da8ddd7",
   "metadata": {},
   "source": [
    "### 10"
   ]
  },
  {
   "cell_type": "code",
   "execution_count": 48,
   "id": "cc8bc89b",
   "metadata": {},
   "outputs": [
    {
     "name": "stdout",
     "output_type": "stream",
     "text": [
      "{'s1': ['red', 'green', 'white'], 's2': ['red', 'black'], 's3': ['yellow']}\n"
     ]
    }
   ],
   "source": [
    "series = {'s1':['red','green','white'],'s2':['red', 'black'],'s3':['yellow']}\n",
    "print(series)"
   ]
  },
  {
   "cell_type": "code",
   "execution_count": 49,
   "id": "5ff5c6d4",
   "metadata": {},
   "outputs": [],
   "source": [
    "s1 = pd.Series(series)"
   ]
  },
  {
   "cell_type": "code",
   "execution_count": 50,
   "id": "ac9db8f3",
   "metadata": {},
   "outputs": [
    {
     "name": "stdout",
     "output_type": "stream",
     "text": [
      "s1    [red, green, white]\n",
      "s2           [red, black]\n",
      "s3               [yellow]\n",
      "dtype: object\n"
     ]
    }
   ],
   "source": [
    "print(s1)"
   ]
  },
  {
   "cell_type": "code",
   "execution_count": 52,
   "id": "4ea8d63b",
   "metadata": {},
   "outputs": [
    {
     "name": "stdout",
     "output_type": "stream",
     "text": [
      "0       red\n",
      "1     green\n",
      "2     white\n",
      "3       red\n",
      "4     black\n",
      "5    yellow\n",
      "dtype: object\n"
     ]
    }
   ],
   "source": [
    "s2 = s1.apply(pd.Series).stack().reset_index(drop=True)\n",
    "print(s2)"
   ]
  },
  {
   "cell_type": "code",
   "execution_count": 53,
   "id": "d8459f79",
   "metadata": {},
   "outputs": [
    {
     "name": "stdout",
     "output_type": "stream",
     "text": [
      "0       red\n",
      "1     green\n",
      "2     white\n",
      "3       red\n",
      "4     black\n",
      "5    yellow\n",
      "dtype: object\n"
     ]
    }
   ],
   "source": [
    "s3 = s1.apply(pd.Series).stack().reset_index(drop=False)\n",
    "print(s2)"
   ]
  },
  {
   "cell_type": "code",
   "execution_count": null,
   "id": "66763159",
   "metadata": {},
   "outputs": [],
   "source": [
    "#need to look more at this example "
   ]
  },
  {
   "cell_type": "markdown",
   "id": "4bb1735c",
   "metadata": {},
   "source": [
    "### 11"
   ]
  },
  {
   "cell_type": "code",
   "execution_count": 4,
   "id": "a4192bd0",
   "metadata": {},
   "outputs": [
    {
     "name": "stdout",
     "output_type": "stream",
     "text": [
      "0       100\n",
      "1       200\n",
      "2    python\n",
      "3    300.12\n",
      "4       400\n",
      "dtype: object\n"
     ]
    }
   ],
   "source": [
    "ds = pd.Series([100,200,'python',300.12,400])\n",
    "print(ds)"
   ]
  },
  {
   "cell_type": "code",
   "execution_count": 11,
   "id": "390f5746",
   "metadata": {},
   "outputs": [
    {
     "name": "stdout",
     "output_type": "stream",
     "text": [
      "0       100\n",
      "1       200\n",
      "2    python\n",
      "3    300.12\n",
      "4       400\n",
      "dtype: object\n"
     ]
    }
   ],
   "source": [
    "ds1 = ds.sort_index()\n",
    "print(ds1)"
   ]
  },
  {
   "cell_type": "code",
   "execution_count": 9,
   "id": "9855fe4f",
   "metadata": {},
   "outputs": [
    {
     "name": "stdout",
     "output_type": "stream",
     "text": [
      "Original Data Series:\n",
      "0       100\n",
      "1       200\n",
      "2    python\n",
      "3    300.12\n",
      "4       400\n",
      "dtype: object\n",
      "0       100\n",
      "1       200\n",
      "3    300.12\n",
      "4       400\n",
      "2    python\n",
      "dtype: object\n"
     ]
    }
   ],
   "source": [
    "s = pd.Series(['100', '200', 'python', '300.12', '400'])\n",
    "print(\"Original Data Series:\")\n",
    "print(s)\n",
    "new_s = pd.Series(s).sort_values()\n",
    "print(new_s)"
   ]
  },
  {
   "cell_type": "markdown",
   "id": "b0a8e808",
   "metadata": {},
   "source": [
    "### 12"
   ]
  },
  {
   "cell_type": "code",
   "execution_count": 12,
   "id": "5e6dd542",
   "metadata": {},
   "outputs": [
    {
     "name": "stdout",
     "output_type": "stream",
     "text": [
      "0       100\n",
      "1       200\n",
      "2    python\n",
      "3    300.12\n",
      "4       400\n",
      "dtype: object\n"
     ]
    }
   ],
   "source": [
    "print(ds)"
   ]
  },
  {
   "cell_type": "code",
   "execution_count": 13,
   "id": "acaa046b",
   "metadata": {},
   "outputs": [
    {
     "name": "stdout",
     "output_type": "stream",
     "text": [
      "0       100\n",
      "1       200\n",
      "2    python\n",
      "3    300.12\n",
      "4       400\n",
      "0       500\n",
      "1       php\n",
      "dtype: object\n"
     ]
    }
   ],
   "source": [
    "ds_add = pd.Series([500,'php'])\n",
    "ds1 = pd.concat([ds, ds_add])\n",
    "print(ds1)"
   ]
  },
  {
   "cell_type": "markdown",
   "id": "ce5f06db",
   "metadata": {},
   "source": [
    "### 13"
   ]
  },
  {
   "cell_type": "code",
   "execution_count": 20,
   "id": "142d29bd",
   "metadata": {},
   "outputs": [
    {
     "name": "stdout",
     "output_type": "stream",
     "text": [
      "0      0\n",
      "1      1\n",
      "2      2\n",
      "3      3\n",
      "4      4\n",
      "5      5\n",
      "6      6\n",
      "7      7\n",
      "8      8\n",
      "9      9\n",
      "10    10\n",
      "dtype: int64\n",
      "0    0\n",
      "1    1\n",
      "2    2\n",
      "3    3\n",
      "4    4\n",
      "5    5\n",
      "dtype: int64\n"
     ]
    }
   ],
   "source": [
    "ds = pd.Series([0,1,2,3,4,5,6,7,8,9,10])\n",
    "print(ds)\n",
    "n = 6 \n",
    "ds1 = ds[ds < n]\n",
    "print(ds1)"
   ]
  },
  {
   "cell_type": "code",
   "execution_count": 21,
   "id": "c18f29cf",
   "metadata": {},
   "outputs": [
    {
     "name": "stdout",
     "output_type": "stream",
     "text": [
      "0    0\n",
      "1    1\n",
      "2    2\n",
      "3    3\n",
      "4    4\n",
      "5    5\n",
      "dtype: int64\n"
     ]
    }
   ],
   "source": [
    "ds = pd.Series([0,1,2,3,4,5,6,7,8,9,10])\n",
    "#print(ds)\n",
    "#n = 6 \n",
    "ds1 = ds[ds < 6]\n",
    "print(ds1)"
   ]
  },
  {
   "cell_type": "markdown",
   "id": "d0bbd3f6",
   "metadata": {},
   "source": [
    "### 14"
   ]
  },
  {
   "cell_type": "code",
   "execution_count": 22,
   "id": "42c19b5e",
   "metadata": {},
   "outputs": [
    {
     "name": "stdout",
     "output_type": "stream",
     "text": [
      "a    1\n",
      "b    2\n",
      "c    3\n",
      "dtype: int64\n",
      "c    3\n",
      "a    1\n",
      "b    2\n",
      "dtype: int64\n"
     ]
    }
   ],
   "source": [
    "ds = pd.Series(data = [1,2,3], index = ['a','b','c'])\n",
    "print(ds)\n",
    "ds1 = ds.reindex(index=['c','a','b'])\n",
    "print(ds1)"
   ]
  },
  {
   "cell_type": "markdown",
   "id": "82442a0c",
   "metadata": {},
   "source": [
    "### 15"
   ]
  },
  {
   "cell_type": "code",
   "execution_count": 26,
   "id": "b964e4d7",
   "metadata": {},
   "outputs": [
    {
     "name": "stdout",
     "output_type": "stream",
     "text": [
      "4.818181818181818\n",
      "2.522624895547565\n"
     ]
    }
   ],
   "source": [
    "ds = pd.Series([1,2,3,4,5,6,7,8,9,5,3])\n",
    "mean = ds.mean()\n",
    "print(mean)\n",
    "stdev = ds.std()\n",
    "print(stdev)"
   ]
  },
  {
   "cell_type": "markdown",
   "id": "4274e7cd",
   "metadata": {},
   "source": [
    "### 16"
   ]
  },
  {
   "cell_type": "code",
   "execution_count": 2,
   "id": "70795f95",
   "metadata": {},
   "outputs": [],
   "source": [
    "ds = pd.Series([1,2,3,4,5])\n",
    "ds1 = pd.Series([2,4,6,8,10])\n",
    "result = ds[~ds.isin(ds1)]"
   ]
  },
  {
   "cell_type": "code",
   "execution_count": 3,
   "id": "127c47c0",
   "metadata": {},
   "outputs": [
    {
     "name": "stdout",
     "output_type": "stream",
     "text": [
      "0    1\n",
      "2    3\n",
      "4    5\n",
      "dtype: int64\n"
     ]
    }
   ],
   "source": [
    "print(result)"
   ]
  },
  {
   "cell_type": "markdown",
   "id": "13c8c766",
   "metadata": {},
   "source": [
    "### 17"
   ]
  },
  {
   "cell_type": "code",
   "execution_count": 9,
   "id": "6507f00e",
   "metadata": {},
   "outputs": [],
   "source": [
    "import numpy as np\n",
    "ds00 = pd.Series(np.union1d(ds, ds1))  # union used to find the elements in each series, not including duplicates\n",
    "ds11 = pd.Series(np.intersect1d(ds, ds1))  # intersect used to find the common numbers of a series\n",
    "result = ds00[~ds00.isin(ds11)] # ~ used for boolean masking, isin used for finding similar elements"
   ]
  },
  {
   "cell_type": "code",
   "execution_count": 10,
   "id": "8f5ce2fa",
   "metadata": {},
   "outputs": [
    {
     "name": "stdout",
     "output_type": "stream",
     "text": [
      "0     1\n",
      "1     2\n",
      "2     3\n",
      "3     4\n",
      "4     5\n",
      "5     6\n",
      "6     8\n",
      "7    10\n",
      "dtype: int64 0    2\n",
      "1    4\n",
      "dtype: int64 0     1\n",
      "2     3\n",
      "4     5\n",
      "5     6\n",
      "6     8\n",
      "7    10\n",
      "dtype: int64\n"
     ]
    }
   ],
   "source": [
    "print(ds00,ds11,result)"
   ]
  },
  {
   "cell_type": "code",
   "execution_count": 11,
   "id": "878a24ed",
   "metadata": {},
   "outputs": [
    {
     "name": "stdout",
     "output_type": "stream",
     "text": [
      "1    2\n",
      "3    4\n",
      "dtype: int64\n"
     ]
    }
   ],
   "source": [
    "result = ds00[ds00.isin(ds11)]  # ~ offers the \"not\" option, while her only the numbers in both series are given\n",
    "print(result)"
   ]
  },
  {
   "cell_type": "markdown",
   "id": "c27335eb",
   "metadata": {},
   "source": [
    "### 18"
   ]
  },
  {
   "cell_type": "code",
   "execution_count": 20,
   "id": "31d515a7",
   "metadata": {},
   "outputs": [
    {
     "name": "stdout",
     "output_type": "stream",
     "text": [
      "0      3.000938\n",
      "1     11.370722\n",
      "2     14.612143\n",
      "3      8.990256\n",
      "4     13.925283\n",
      "5     12.056875\n",
      "6     10.884719\n",
      "7      5.719827\n",
      "8      9.242017\n",
      "9     11.020006\n",
      "10     8.167892\n",
      "11    11.740654\n",
      "12     7.665620\n",
      "13    13.267388\n",
      "14    12.690883\n",
      "15     9.582355\n",
      "16     7.874878\n",
      "17    14.118931\n",
      "18     8.247458\n",
      "19     5.526727\n",
      "dtype: float64\n",
      "[ 3.00093811  8.09463867 10.23353705 12.21537733 14.61214321]\n"
     ]
    }
   ],
   "source": [
    "num_state = np.random.RandomState(100)  #numpy randomstate object creation with seed value 100\n",
    "num_series = pd.Series(num_state.normal(10,4,20))  # pandas series object with 20 random values, normally distributed, mean 10, std 4\n",
    "print(num_series)\n",
    "result = np.percentile(num_series, q=[0,25,50,75,100])  #percentiles of values with q=[min,lower quater,med,upper,max]\n",
    "print(result)"
   ]
  },
  {
   "cell_type": "markdown",
   "id": "8c4800bb",
   "metadata": {},
   "source": [
    "### 19"
   ]
  },
  {
   "cell_type": "code",
   "execution_count": 21,
   "id": "5d4ec534",
   "metadata": {},
   "outputs": [
    {
     "name": "stdout",
     "output_type": "stream",
     "text": [
      "Original Series:\n",
      "0     8\n",
      "1     8\n",
      "2     3\n",
      "3     4\n",
      "4     8\n",
      "5     1\n",
      "6     7\n",
      "7     9\n",
      "8     9\n",
      "9     0\n",
      "10    8\n",
      "11    8\n",
      "12    5\n",
      "13    2\n",
      "14    6\n",
      "15    6\n",
      "16    6\n",
      "17    9\n",
      "18    5\n",
      "19    0\n",
      "20    8\n",
      "21    2\n",
      "22    2\n",
      "23    4\n",
      "24    6\n",
      "25    3\n",
      "26    0\n",
      "27    1\n",
      "28    9\n",
      "29    6\n",
      "30    1\n",
      "31    9\n",
      "32    1\n",
      "33    5\n",
      "34    3\n",
      "35    5\n",
      "36    7\n",
      "37    8\n",
      "38    4\n",
      "39    7\n",
      "dtype: object\n",
      "Frequency of each unique value of the said series.\n",
      "8    7\n",
      "9    5\n",
      "6    5\n",
      "1    4\n",
      "5    4\n",
      "3    3\n",
      "4    3\n",
      "7    3\n",
      "0    3\n",
      "2    3\n",
      "dtype: int64\n"
     ]
    }
   ],
   "source": [
    "num_series = pd.Series(np.take(list('0123456789'), np.random.randint(10, size=40))) #create random series with list of numbers, max 10, 40 items\n",
    "print(\"Original Series:\")\n",
    "print(num_series)\n",
    "print(\"Frequency of each unique value of the said series.\")\n",
    "result = num_series.value_counts()  #counts frequency of each original character\n",
    "print(result)"
   ]
  },
  {
   "cell_type": "markdown",
   "id": "6d24525a",
   "metadata": {},
   "source": [
    "### 20"
   ]
  },
  {
   "cell_type": "code",
   "execution_count": 23,
   "id": "afa7e4c8",
   "metadata": {},
   "outputs": [
    {
     "name": "stdout",
     "output_type": "stream",
     "text": [
      "0     2\n",
      "1     2\n",
      "2     3\n",
      "3     4\n",
      "4     2\n",
      "5     1\n",
      "6     4\n",
      "7     4\n",
      "8     2\n",
      "9     3\n",
      "10    1\n",
      "11    2\n",
      "12    1\n",
      "13    4\n",
      "14    3\n",
      "dtype: int64\n",
      "top 2 freq 2    5\n",
      "4    4\n",
      "3    3\n",
      "1    3\n",
      "dtype: int64\n",
      "0         2\n",
      "1         2\n",
      "2     Other\n",
      "3     Other\n",
      "4         2\n",
      "5     Other\n",
      "6     Other\n",
      "7     Other\n",
      "8         2\n",
      "9     Other\n",
      "10    Other\n",
      "11        2\n",
      "12    Other\n",
      "13    Other\n",
      "14    Other\n",
      "dtype: object\n"
     ]
    }
   ],
   "source": [
    "num_series = pd.Series(np.random.randint(1,5,[15]))\n",
    "print(num_series)\n",
    "print(\"top 2 freq\",num_series.value_counts())\n",
    "result = num_series[~num_series.isin(num_series.value_counts().index[:1])] = 'Other'\n",
    "print(num_series)"
   ]
  },
  {
   "cell_type": "code",
   "execution_count": null,
   "id": "9514fc4b",
   "metadata": {},
   "outputs": [],
   "source": []
  }
 ],
 "metadata": {
  "kernelspec": {
   "display_name": "Python 3 (ipykernel)",
   "language": "python",
   "name": "python3"
  },
  "language_info": {
   "codemirror_mode": {
    "name": "ipython",
    "version": 3
   },
   "file_extension": ".py",
   "mimetype": "text/x-python",
   "name": "python",
   "nbconvert_exporter": "python",
   "pygments_lexer": "ipython3",
   "version": "3.9.12"
  }
 },
 "nbformat": 4,
 "nbformat_minor": 5
}
