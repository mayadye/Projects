{
 "cells": [
  {
   "cell_type": "code",
   "execution_count": 22,
   "id": "11295601",
   "metadata": {},
   "outputs": [],
   "source": [
    "import pandas as pd\n",
    "import numpy as np\n",
    "import matplotlib.pyplot as plt"
   ]
  },
  {
   "cell_type": "code",
   "execution_count": 4,
   "id": "505b31cb",
   "metadata": {},
   "outputs": [
    {
     "name": "stdout",
     "output_type": "stream",
     "text": [
      "                    FRED Graph Observations Unnamed: 1\n",
      "0             Federal Reserve Economic Data        NaN\n",
      "1         Link: https://fred.stlouisfed.org        NaN\n",
      "2     Help: https://fredhelp.stlouisfed.org        NaN\n",
      "3                Economic Research Division        NaN\n",
      "4         Federal Reserve Bank of St. Louis        NaN\n",
      "...                                     ...        ...\n",
      "6527                    2014-12-25 00:00:00          0\n",
      "6528                    2014-12-26 00:00:00      54.59\n",
      "6529                    2014-12-29 00:00:00      53.46\n",
      "6530                    2014-12-30 00:00:00      54.14\n",
      "6531                    2014-12-31 00:00:00      53.45\n",
      "\n",
      "[6532 rows x 2 columns]\n"
     ]
    }
   ],
   "source": [
    "import pandas as pd\n",
    "\n",
    "POIL_WTI = pd.read_excel(r\"/Users/mayadye/Downloads/DCOILWTICO.xls\")\n",
    "\n",
    "print(POIL_WTI)"
   ]
  },
  {
   "cell_type": "code",
   "execution_count": 6,
   "id": "72223ba7",
   "metadata": {},
   "outputs": [
    {
     "data": {
      "text/html": [
       "<div>\n",
       "<style scoped>\n",
       "    .dataframe tbody tr th:only-of-type {\n",
       "        vertical-align: middle;\n",
       "    }\n",
       "\n",
       "    .dataframe tbody tr th {\n",
       "        vertical-align: top;\n",
       "    }\n",
       "\n",
       "    .dataframe thead th {\n",
       "        text-align: right;\n",
       "    }\n",
       "</style>\n",
       "<table border=\"1\" class=\"dataframe\">\n",
       "  <thead>\n",
       "    <tr style=\"text-align: right;\">\n",
       "      <th></th>\n",
       "      <th>FRED Graph Observations</th>\n",
       "      <th>Unnamed: 1</th>\n",
       "    </tr>\n",
       "  </thead>\n",
       "  <tbody>\n",
       "    <tr>\n",
       "      <th>0</th>\n",
       "      <td>Federal Reserve Economic Data</td>\n",
       "      <td>NaN</td>\n",
       "    </tr>\n",
       "    <tr>\n",
       "      <th>1</th>\n",
       "      <td>Link: https://fred.stlouisfed.org</td>\n",
       "      <td>NaN</td>\n",
       "    </tr>\n",
       "    <tr>\n",
       "      <th>2</th>\n",
       "      <td>Help: https://fredhelp.stlouisfed.org</td>\n",
       "      <td>NaN</td>\n",
       "    </tr>\n",
       "    <tr>\n",
       "      <th>3</th>\n",
       "      <td>Economic Research Division</td>\n",
       "      <td>NaN</td>\n",
       "    </tr>\n",
       "    <tr>\n",
       "      <th>4</th>\n",
       "      <td>Federal Reserve Bank of St. Louis</td>\n",
       "      <td>NaN</td>\n",
       "    </tr>\n",
       "    <tr>\n",
       "      <th>5</th>\n",
       "      <td>NaN</td>\n",
       "      <td>NaN</td>\n",
       "    </tr>\n",
       "    <tr>\n",
       "      <th>6</th>\n",
       "      <td>DCOILWTICO</td>\n",
       "      <td>Crude Oil Prices: West Texas Intermediate (WTI...</td>\n",
       "    </tr>\n",
       "    <tr>\n",
       "      <th>7</th>\n",
       "      <td>NaN</td>\n",
       "      <td>NaN</td>\n",
       "    </tr>\n",
       "    <tr>\n",
       "      <th>8</th>\n",
       "      <td>Frequency: Daily</td>\n",
       "      <td>NaN</td>\n",
       "    </tr>\n",
       "    <tr>\n",
       "      <th>9</th>\n",
       "      <td>observation_date</td>\n",
       "      <td>DCOILWTICO</td>\n",
       "    </tr>\n",
       "    <tr>\n",
       "      <th>10</th>\n",
       "      <td>1990-01-02 00:00:00</td>\n",
       "      <td>22.88</td>\n",
       "    </tr>\n",
       "    <tr>\n",
       "      <th>11</th>\n",
       "      <td>1990-01-03 00:00:00</td>\n",
       "      <td>23.81</td>\n",
       "    </tr>\n",
       "    <tr>\n",
       "      <th>12</th>\n",
       "      <td>1990-01-04 00:00:00</td>\n",
       "      <td>23.41</td>\n",
       "    </tr>\n",
       "    <tr>\n",
       "      <th>13</th>\n",
       "      <td>1990-01-05 00:00:00</td>\n",
       "      <td>23.07</td>\n",
       "    </tr>\n",
       "    <tr>\n",
       "      <th>14</th>\n",
       "      <td>1990-01-08 00:00:00</td>\n",
       "      <td>21.64</td>\n",
       "    </tr>\n",
       "    <tr>\n",
       "      <th>15</th>\n",
       "      <td>1990-01-09 00:00:00</td>\n",
       "      <td>22.25</td>\n",
       "    </tr>\n",
       "    <tr>\n",
       "      <th>16</th>\n",
       "      <td>1990-01-10 00:00:00</td>\n",
       "      <td>22.9</td>\n",
       "    </tr>\n",
       "    <tr>\n",
       "      <th>17</th>\n",
       "      <td>1990-01-11 00:00:00</td>\n",
       "      <td>23.15</td>\n",
       "    </tr>\n",
       "    <tr>\n",
       "      <th>18</th>\n",
       "      <td>1990-01-12 00:00:00</td>\n",
       "      <td>23.17</td>\n",
       "    </tr>\n",
       "    <tr>\n",
       "      <th>19</th>\n",
       "      <td>1990-01-15 00:00:00</td>\n",
       "      <td>22.36</td>\n",
       "    </tr>\n",
       "  </tbody>\n",
       "</table>\n",
       "</div>"
      ],
      "text/plain": [
       "                  FRED Graph Observations  \\\n",
       "0           Federal Reserve Economic Data   \n",
       "1       Link: https://fred.stlouisfed.org   \n",
       "2   Help: https://fredhelp.stlouisfed.org   \n",
       "3              Economic Research Division   \n",
       "4       Federal Reserve Bank of St. Louis   \n",
       "5                                     NaN   \n",
       "6                              DCOILWTICO   \n",
       "7                                     NaN   \n",
       "8                        Frequency: Daily   \n",
       "9                        observation_date   \n",
       "10                    1990-01-02 00:00:00   \n",
       "11                    1990-01-03 00:00:00   \n",
       "12                    1990-01-04 00:00:00   \n",
       "13                    1990-01-05 00:00:00   \n",
       "14                    1990-01-08 00:00:00   \n",
       "15                    1990-01-09 00:00:00   \n",
       "16                    1990-01-10 00:00:00   \n",
       "17                    1990-01-11 00:00:00   \n",
       "18                    1990-01-12 00:00:00   \n",
       "19                    1990-01-15 00:00:00   \n",
       "\n",
       "                                           Unnamed: 1  \n",
       "0                                                 NaN  \n",
       "1                                                 NaN  \n",
       "2                                                 NaN  \n",
       "3                                                 NaN  \n",
       "4                                                 NaN  \n",
       "5                                                 NaN  \n",
       "6   Crude Oil Prices: West Texas Intermediate (WTI...  \n",
       "7                                                 NaN  \n",
       "8                                                 NaN  \n",
       "9                                          DCOILWTICO  \n",
       "10                                              22.88  \n",
       "11                                              23.81  \n",
       "12                                              23.41  \n",
       "13                                              23.07  \n",
       "14                                              21.64  \n",
       "15                                              22.25  \n",
       "16                                               22.9  \n",
       "17                                              23.15  \n",
       "18                                              23.17  \n",
       "19                                              22.36  "
      ]
     },
     "execution_count": 6,
     "metadata": {},
     "output_type": "execute_result"
    }
   ],
   "source": [
    "POIL_WTI.head(20)"
   ]
  },
  {
   "cell_type": "markdown",
   "id": "10868f27",
   "metadata": {},
   "source": [
    "**need to get a dataset that can be plotted** "
   ]
  },
  {
   "cell_type": "code",
   "execution_count": 7,
   "id": "344263d5",
   "metadata": {},
   "outputs": [
    {
     "data": {
      "text/plain": [
       "['FRED Graph Observations', 'Unnamed: 1']"
      ]
     },
     "execution_count": 7,
     "metadata": {},
     "output_type": "execute_result"
    }
   ],
   "source": [
    "POIL_WTI.columns.values.tolist()"
   ]
  },
  {
   "cell_type": "code",
   "execution_count": 10,
   "id": "152dbf06",
   "metadata": {},
   "outputs": [
    {
     "name": "stdout",
     "output_type": "stream",
     "text": [
      "     FRED Graph Observations Unnamed: 1\n",
      "24       1990-01-22 00:00:00      22.57\n",
      "25       1990-01-23 00:00:00      22.34\n",
      "26       1990-01-24 00:00:00      23.43\n",
      "27       1990-01-25 00:00:00      24.48\n",
      "28       1990-01-26 00:00:00      22.56\n",
      "...                      ...        ...\n",
      "6527     2014-12-25 00:00:00          0\n",
      "6528     2014-12-26 00:00:00      54.59\n",
      "6529     2014-12-29 00:00:00      53.46\n",
      "6530     2014-12-30 00:00:00      54.14\n",
      "6531     2014-12-31 00:00:00      53.45\n",
      "\n",
      "[6508 rows x 2 columns]\n"
     ]
    },
    {
     "data": {
      "text/html": [
       "<div>\n",
       "<style scoped>\n",
       "    .dataframe tbody tr th:only-of-type {\n",
       "        vertical-align: middle;\n",
       "    }\n",
       "\n",
       "    .dataframe tbody tr th {\n",
       "        vertical-align: top;\n",
       "    }\n",
       "\n",
       "    .dataframe thead th {\n",
       "        text-align: right;\n",
       "    }\n",
       "</style>\n",
       "<table border=\"1\" class=\"dataframe\">\n",
       "  <thead>\n",
       "    <tr style=\"text-align: right;\">\n",
       "      <th></th>\n",
       "      <th>FRED Graph Observations</th>\n",
       "      <th>Unnamed: 1</th>\n",
       "    </tr>\n",
       "  </thead>\n",
       "  <tbody>\n",
       "    <tr>\n",
       "      <th>24</th>\n",
       "      <td>1990-01-22 00:00:00</td>\n",
       "      <td>22.57</td>\n",
       "    </tr>\n",
       "    <tr>\n",
       "      <th>25</th>\n",
       "      <td>1990-01-23 00:00:00</td>\n",
       "      <td>22.34</td>\n",
       "    </tr>\n",
       "    <tr>\n",
       "      <th>26</th>\n",
       "      <td>1990-01-24 00:00:00</td>\n",
       "      <td>23.43</td>\n",
       "    </tr>\n",
       "    <tr>\n",
       "      <th>27</th>\n",
       "      <td>1990-01-25 00:00:00</td>\n",
       "      <td>24.48</td>\n",
       "    </tr>\n",
       "    <tr>\n",
       "      <th>28</th>\n",
       "      <td>1990-01-26 00:00:00</td>\n",
       "      <td>22.56</td>\n",
       "    </tr>\n",
       "  </tbody>\n",
       "</table>\n",
       "</div>"
      ],
      "text/plain": [
       "   FRED Graph Observations Unnamed: 1\n",
       "24     1990-01-22 00:00:00      22.57\n",
       "25     1990-01-23 00:00:00      22.34\n",
       "26     1990-01-24 00:00:00      23.43\n",
       "27     1990-01-25 00:00:00      24.48\n",
       "28     1990-01-26 00:00:00      22.56"
      ]
     },
     "execution_count": 10,
     "metadata": {},
     "output_type": "execute_result"
    }
   ],
   "source": [
    "POIL_WTI = POIL_WTI.tail(-8)\n",
    "print(POIL_WTI)\n",
    "POIL_WTI.head()"
   ]
  },
  {
   "cell_type": "code",
   "execution_count": 17,
   "id": "aeb41d5f",
   "metadata": {},
   "outputs": [
    {
     "name": "stdout",
     "output_type": "stream",
     "text": [
      "                     date price_oil\n",
      "24    1990-01-22 00:00:00     22.57\n",
      "25    1990-01-23 00:00:00     22.34\n",
      "26    1990-01-24 00:00:00     23.43\n",
      "27    1990-01-25 00:00:00     24.48\n",
      "28    1990-01-26 00:00:00     22.56\n",
      "...                   ...       ...\n",
      "6527  2014-12-25 00:00:00         0\n",
      "6528  2014-12-26 00:00:00     54.59\n",
      "6529  2014-12-29 00:00:00     53.46\n",
      "6530  2014-12-30 00:00:00     54.14\n",
      "6531  2014-12-31 00:00:00     53.45\n",
      "\n",
      "[6508 rows x 2 columns]\n"
     ]
    }
   ],
   "source": [
    "POIL_WTI.rename(columns={'FRED Graph Observations': 'date','Unnamed: 1': 'price_oil'}, inplace=True)\n",
    "\n",
    "print(POIL_WTI)"
   ]
  },
  {
   "cell_type": "code",
   "execution_count": 23,
   "id": "78abf479",
   "metadata": {},
   "outputs": [
    {
     "data": {
      "image/png": "[encoded data removed]",
      "text/plain": [
       "<Figure size 432x288 with 1 Axes>"
      ]
     },
     "metadata": {
      "needs_background": "light"
     },
     "output_type": "display_data"
    }
   ],
   "source": [
    "# scatter plot\n",
    "POIL_WTI.plot(kind='scatter',\n",
    "        x='date',\n",
    "        y='price_oil',\n",
    "        color='black')\n",
    " \n",
    "# set the title\n",
    "plt.title('Price of Oil WTI, freq: daily')\n",
    " \n",
    "# show the plot\n",
    "plt.show()"
   ]
  },
  {
   "cell_type": "markdown",
   "id": "ad8e5cd9",
   "metadata": {},
   "source": [
    "**need to exclude those 0 points in data frame ** adjust for yearly not daily data ** use tools to manipulate clean data from FRED in Python** "
   ]
  },
  {
   "cell_type": "code",
   "execution_count": null,
   "id": "52fbcc97",
   "metadata": {},
   "outputs": [],
   "source": []
  }
 ],
 "metadata": {
  "kernelspec": {
   "display_name": "Python 3 (ipykernel)",
   "language": "python",
   "name": "python3"
  },
  "language_info": {
   "codemirror_mode": {
    "name": "ipython",
    "version": 3
   },
   "file_extension": ".py",
   "mimetype": "text/x-python",
   "name": "python",
   "nbconvert_exporter": "python",
   "pygments_lexer": "ipython3",
   "version": "3.9.12"
  }
 },
 "nbformat": 4,
 "nbformat_minor": 5
}
